{
 "cells": [
  {
   "cell_type": "code",
   "execution_count": 7,
   "id": "6becf442",
   "metadata": {},
   "outputs": [
    {
     "name": "stdout",
     "output_type": "stream",
     "text": [
      "1681776000\n",
      "0.21091900322465112\n",
      "0\n",
      "0.21167730872652318\n",
      "0.5319816490814134\n",
      "added signals\n"
     ]
    }
   ],
   "source": [
    "import csv\n",
    "import requests\n",
    "\n",
    "url = 'https://min-api.cryptocompare.com/data/v2/histominute'\n",
    "url = \"https://min-api.cryptocompare.com/data/tradingsignals/intotheblock/latest\"\n",
    "\n",
    "params = {\n",
    "    'fsym': 'BTC',      # From symbol (Bitcoin)\n",
    "    'api_key': '6bd78243689fbb635cd376fd6247d7e380465eef7e0fa753e8c02e341f6e579a'       # **To safeguard my API call counts, I deleted my API key ***\n",
    "}\n",
    "\n",
    "response = requests.get(url, params=params)\n",
    "data = response.json()\n",
    "\n",
    "time = data['Data']['time']\n",
    "inOutVar = data['Data']['inOutVar']['score']\n",
    "largetxsVar = data['Data']['largetxsVar']['score']\n",
    "addressesNetGrowth = data['Data']['addressesNetGrowth']['score']\n",
    "concentrationVar = data['Data']['concentrationVar']['score']\n",
    "\n",
    "print(time)\n",
    "print(inOutVar)\n",
    "print(largetxsVar)\n",
    "print(addressesNetGrowth)\n",
    "print(concentrationVar)\n",
    "\n",
    "\"\"\"\n",
    "with open('bitcoin_signals_1.csv', mode='w', newline='') as csv_file:\n",
    "    field_names=['timestamp', 'inOutVar', 'largetxsVar', 'addressesNetGrowth', 'concentrationVar']\n",
    "    writer = csv.DictWriter(csv_file, fieldnames=field_names)\n",
    "    writer.writeheader()\n",
    "    \n",
    "    for row in enumerate(data['Data']):\n",
    "        writer.writerow({\n",
    "            'timestamp' : row['time'],\n",
    "            'inOutVar' : row['inOutVar']['score'],\n",
    "            'largetxsVar' : row['largetxsVar']['score'],\n",
    "            'addressesNetGrowth' : row['addressesNetGrowth']['score'],\n",
    "            'concentrationVar' : row['concentrationVar']['score'],\n",
    "        })\n",
    "\"\"\"\n",
    "print(\"added signals\")\n",
    "\n"
   ]
  },
  {
   "cell_type": "code",
   "execution_count": null,
   "id": "b70e14e7",
   "metadata": {},
   "outputs": [],
   "source": []
  },
  {
   "cell_type": "code",
   "execution_count": null,
   "id": "060f3810",
   "metadata": {},
   "outputs": [],
   "source": []
  }
 ],
 "metadata": {
  "kernelspec": {
   "display_name": "Python 3 (ipykernel)",
   "language": "python",
   "name": "python3"
  },
  "language_info": {
   "codemirror_mode": {
    "name": "ipython",
    "version": 3
   },
   "file_extension": ".py",
   "mimetype": "text/x-python",
   "name": "python",
   "nbconvert_exporter": "python",
   "pygments_lexer": "ipython3",
   "version": "3.9.13"
  }
 },
 "nbformat": 4,
 "nbformat_minor": 5
}
