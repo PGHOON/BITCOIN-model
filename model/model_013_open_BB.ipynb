{
 "cells": [
  {
   "cell_type": "code",
   "execution_count": 1,
   "id": "ff74955b",
   "metadata": {},
   "outputs": [],
   "source": [
    "import numpy as np\n",
    "import pandas as pd\n",
    "import matplotlib.pyplot as plt\n",
    "\n",
    "from stock_pandas import StockDataFrame as SDF\n",
    "from stockstats import StockDataFrame\n",
    "from sklearn.model_selection import train_test_split\n",
    "from sklearn.preprocessing import MinMaxScaler\n",
    "from keras.models import Sequential\n",
    "from tensorflow.keras.optimizers import Adam\n",
    "from keras.layers import LSTM, Dense, Dropout\n",
    "from tensorflow.keras.callbacks import LearningRateScheduler\n",
    "import math"
   ]
  },
  {
   "cell_type": "markdown",
   "id": "e2f6e7f2",
   "metadata": {},
   "source": [
    "## Load Dataset - daily"
   ]
  },
  {
   "cell_type": "code",
   "execution_count": 2,
   "id": "4205d0cd",
   "metadata": {},
   "outputs": [
    {
     "data": {
      "text/html": [
       "<div>\n",
       "<style scoped>\n",
       "    .dataframe tbody tr th:only-of-type {\n",
       "        vertical-align: middle;\n",
       "    }\n",
       "\n",
       "    .dataframe tbody tr th {\n",
       "        vertical-align: top;\n",
       "    }\n",
       "\n",
       "    .dataframe thead th {\n",
       "        text-align: right;\n",
       "    }\n",
       "</style>\n",
       "<table border=\"1\" class=\"dataframe\">\n",
       "  <thead>\n",
       "    <tr style=\"text-align: right;\">\n",
       "      <th></th>\n",
       "      <th>Date</th>\n",
       "      <th>Open</th>\n",
       "      <th>Close</th>\n",
       "    </tr>\n",
       "  </thead>\n",
       "  <tbody>\n",
       "    <tr>\n",
       "      <th>0</th>\n",
       "      <td>9/17/14</td>\n",
       "      <td>465.864014</td>\n",
       "      <td>457.334015</td>\n",
       "    </tr>\n",
       "    <tr>\n",
       "      <th>1</th>\n",
       "      <td>9/18/14</td>\n",
       "      <td>456.859985</td>\n",
       "      <td>424.440002</td>\n",
       "    </tr>\n",
       "    <tr>\n",
       "      <th>2</th>\n",
       "      <td>9/19/14</td>\n",
       "      <td>424.102997</td>\n",
       "      <td>394.795990</td>\n",
       "    </tr>\n",
       "    <tr>\n",
       "      <th>3</th>\n",
       "      <td>9/20/14</td>\n",
       "      <td>394.673004</td>\n",
       "      <td>408.903992</td>\n",
       "    </tr>\n",
       "    <tr>\n",
       "      <th>4</th>\n",
       "      <td>9/21/14</td>\n",
       "      <td>408.084991</td>\n",
       "      <td>398.821014</td>\n",
       "    </tr>\n",
       "    <tr>\n",
       "      <th>...</th>\n",
       "      <td>...</td>\n",
       "      <td>...</td>\n",
       "      <td>...</td>\n",
       "    </tr>\n",
       "    <tr>\n",
       "      <th>3135</th>\n",
       "      <td>4/18/23</td>\n",
       "      <td>29449.091800</td>\n",
       "      <td>30397.552730</td>\n",
       "    </tr>\n",
       "    <tr>\n",
       "      <th>3136</th>\n",
       "      <td>4/19/23</td>\n",
       "      <td>30394.187500</td>\n",
       "      <td>28822.679690</td>\n",
       "    </tr>\n",
       "    <tr>\n",
       "      <th>3137</th>\n",
       "      <td>4/20/23</td>\n",
       "      <td>28823.683590</td>\n",
       "      <td>28245.988280</td>\n",
       "    </tr>\n",
       "    <tr>\n",
       "      <th>3138</th>\n",
       "      <td>4/21/23</td>\n",
       "      <td>28249.230470</td>\n",
       "      <td>27276.910160</td>\n",
       "    </tr>\n",
       "    <tr>\n",
       "      <th>3139</th>\n",
       "      <td>4/22/23</td>\n",
       "      <td>27265.894530</td>\n",
       "      <td>27817.500000</td>\n",
       "    </tr>\n",
       "  </tbody>\n",
       "</table>\n",
       "<p>3140 rows × 3 columns</p>\n",
       "</div>"
      ],
      "text/plain": [
       "         Date          Open         Close\n",
       "0     9/17/14    465.864014    457.334015\n",
       "1     9/18/14    456.859985    424.440002\n",
       "2     9/19/14    424.102997    394.795990\n",
       "3     9/20/14    394.673004    408.903992\n",
       "4     9/21/14    408.084991    398.821014\n",
       "...       ...           ...           ...\n",
       "3135  4/18/23  29449.091800  30397.552730\n",
       "3136  4/19/23  30394.187500  28822.679690\n",
       "3137  4/20/23  28823.683590  28245.988280\n",
       "3138  4/21/23  28249.230470  27276.910160\n",
       "3139  4/22/23  27265.894530  27817.500000\n",
       "\n",
       "[3140 rows x 3 columns]"
      ]
     },
     "execution_count": 2,
     "metadata": {},
     "output_type": "execute_result"
    }
   ],
   "source": [
    "df = pd.read_csv(\"../DataSets/BTC-USD.csv\")\n",
    "df = df.dropna()\n",
    "del df['High']\n",
    "del df['Low']\n",
    "del df['Adj Close']\n",
    "del df['Volume']\n",
    "df"
   ]
  },
  {
   "cell_type": "code",
   "execution_count": 3,
   "id": "b42e9635",
   "metadata": {},
   "outputs": [
    {
     "data": {
      "text/html": [
       "<div>\n",
       "<style scoped>\n",
       "    .dataframe tbody tr th:only-of-type {\n",
       "        vertical-align: middle;\n",
       "    }\n",
       "\n",
       "    .dataframe tbody tr th {\n",
       "        vertical-align: top;\n",
       "    }\n",
       "\n",
       "    .dataframe thead th {\n",
       "        text-align: right;\n",
       "    }\n",
       "</style>\n",
       "<table border=\"1\" class=\"dataframe\">\n",
       "  <thead>\n",
       "    <tr style=\"text-align: right;\">\n",
       "      <th></th>\n",
       "      <th>open</th>\n",
       "      <th>close</th>\n",
       "    </tr>\n",
       "    <tr>\n",
       "      <th>date</th>\n",
       "      <th></th>\n",
       "      <th></th>\n",
       "    </tr>\n",
       "  </thead>\n",
       "  <tbody>\n",
       "    <tr>\n",
       "      <th>9/17/14</th>\n",
       "      <td>465.864014</td>\n",
       "      <td>457.334015</td>\n",
       "    </tr>\n",
       "    <tr>\n",
       "      <th>9/18/14</th>\n",
       "      <td>456.859985</td>\n",
       "      <td>424.440002</td>\n",
       "    </tr>\n",
       "    <tr>\n",
       "      <th>9/19/14</th>\n",
       "      <td>424.102997</td>\n",
       "      <td>394.795990</td>\n",
       "    </tr>\n",
       "    <tr>\n",
       "      <th>9/20/14</th>\n",
       "      <td>394.673004</td>\n",
       "      <td>408.903992</td>\n",
       "    </tr>\n",
       "    <tr>\n",
       "      <th>9/21/14</th>\n",
       "      <td>408.084991</td>\n",
       "      <td>398.821014</td>\n",
       "    </tr>\n",
       "    <tr>\n",
       "      <th>...</th>\n",
       "      <td>...</td>\n",
       "      <td>...</td>\n",
       "    </tr>\n",
       "    <tr>\n",
       "      <th>4/18/23</th>\n",
       "      <td>29449.091800</td>\n",
       "      <td>30397.552730</td>\n",
       "    </tr>\n",
       "    <tr>\n",
       "      <th>4/19/23</th>\n",
       "      <td>30394.187500</td>\n",
       "      <td>28822.679690</td>\n",
       "    </tr>\n",
       "    <tr>\n",
       "      <th>4/20/23</th>\n",
       "      <td>28823.683590</td>\n",
       "      <td>28245.988280</td>\n",
       "    </tr>\n",
       "    <tr>\n",
       "      <th>4/21/23</th>\n",
       "      <td>28249.230470</td>\n",
       "      <td>27276.910160</td>\n",
       "    </tr>\n",
       "    <tr>\n",
       "      <th>4/22/23</th>\n",
       "      <td>27265.894530</td>\n",
       "      <td>27817.500000</td>\n",
       "    </tr>\n",
       "  </tbody>\n",
       "</table>\n",
       "<p>3140 rows × 2 columns</p>\n",
       "</div>"
      ],
      "text/plain": [
       "                 open         close\n",
       "date                               \n",
       "9/17/14    465.864014    457.334015\n",
       "9/18/14    456.859985    424.440002\n",
       "9/19/14    424.102997    394.795990\n",
       "9/20/14    394.673004    408.903992\n",
       "9/21/14    408.084991    398.821014\n",
       "...               ...           ...\n",
       "4/18/23  29449.091800  30397.552730\n",
       "4/19/23  30394.187500  28822.679690\n",
       "4/20/23  28823.683590  28245.988280\n",
       "4/21/23  28249.230470  27276.910160\n",
       "4/22/23  27265.894530  27817.500000\n",
       "\n",
       "[3140 rows x 2 columns]"
      ]
     },
     "execution_count": 3,
     "metadata": {},
     "output_type": "execute_result"
    }
   ],
   "source": [
    "sdf = StockDataFrame.retype(df)\n",
    "sdf"
   ]
  },
  {
   "cell_type": "code",
   "execution_count": 4,
   "id": "4d4e6b95",
   "metadata": {},
   "outputs": [
    {
     "name": "stdout",
     "output_type": "stream",
     "text": [
      "Index(['9/17/14', '9/18/14', '9/19/14', '9/20/14', '9/21/14', '9/22/14',\n",
      "       '9/23/14', '9/24/14', '9/25/14', '9/26/14',\n",
      "       ...\n",
      "       '4/13/23', '4/14/23', '4/15/23', '4/16/23', '4/17/23', '4/18/23',\n",
      "       '4/19/23', '4/20/23', '4/21/23', '4/22/23'],\n",
      "      dtype='object', name='date', length=3140)\n"
     ]
    }
   ],
   "source": [
    "#Check that date is the index\n",
    "print(sdf.index)"
   ]
  },
  {
   "cell_type": "markdown",
   "id": "4ba24314",
   "metadata": {},
   "source": [
    "## BB"
   ]
  },
  {
   "cell_type": "code",
   "execution_count": 5,
   "id": "41d4203e",
   "metadata": {},
   "outputs": [],
   "source": [
    "#Bollinger Bands Middle, Upper, Lower\n",
    "bbs_m= sdf.get('boll')\n",
    "bbs_u= sdf.get('boll_ub')\n",
    "bbs_l=sdf.get('boll_lb')\n",
    "\n",
    "df['BB_Upper'] = bbs_u\n",
    "df['BB_Mid'] = bbs_m\n",
    "df['BB_Low'] = bbs_l"
   ]
  },
  {
   "cell_type": "markdown",
   "id": "a4d678e7",
   "metadata": {},
   "source": [
    "## Reorder data"
   ]
  },
  {
   "cell_type": "code",
   "execution_count": 6,
   "id": "066c7459",
   "metadata": {},
   "outputs": [],
   "source": [
    "df = df.dropna()\n",
    "new_order = ['open', 'BB_Upper', 'BB_Mid', 'BB_Low', 'close']\n",
    "df = df.reindex(columns=new_order)"
   ]
  },
  {
   "cell_type": "code",
   "execution_count": 7,
   "id": "ab60f124",
   "metadata": {},
   "outputs": [
    {
     "data": {
      "text/html": [
       "<div>\n",
       "<style scoped>\n",
       "    .dataframe tbody tr th:only-of-type {\n",
       "        vertical-align: middle;\n",
       "    }\n",
       "\n",
       "    .dataframe tbody tr th {\n",
       "        vertical-align: top;\n",
       "    }\n",
       "\n",
       "    .dataframe thead th {\n",
       "        text-align: right;\n",
       "    }\n",
       "</style>\n",
       "<table border=\"1\" class=\"dataframe\">\n",
       "  <thead>\n",
       "    <tr style=\"text-align: right;\">\n",
       "      <th></th>\n",
       "      <th>open</th>\n",
       "      <th>BB_Upper</th>\n",
       "      <th>BB_Mid</th>\n",
       "      <th>BB_Low</th>\n",
       "      <th>close</th>\n",
       "    </tr>\n",
       "    <tr>\n",
       "      <th>date</th>\n",
       "      <th></th>\n",
       "      <th></th>\n",
       "      <th></th>\n",
       "      <th></th>\n",
       "      <th></th>\n",
       "    </tr>\n",
       "  </thead>\n",
       "  <tbody>\n",
       "    <tr>\n",
       "      <th>9/18/14</th>\n",
       "      <td>456.859985</td>\n",
       "      <td>487.406168</td>\n",
       "      <td>440.887008</td>\n",
       "      <td>394.367849</td>\n",
       "      <td>424.440002</td>\n",
       "    </tr>\n",
       "    <tr>\n",
       "      <th>9/19/14</th>\n",
       "      <td>424.102997</td>\n",
       "      <td>488.089504</td>\n",
       "      <td>425.523336</td>\n",
       "      <td>362.957167</td>\n",
       "      <td>394.795990</td>\n",
       "    </tr>\n",
       "    <tr>\n",
       "      <th>9/20/14</th>\n",
       "      <td>394.673004</td>\n",
       "      <td>475.088945</td>\n",
       "      <td>421.368500</td>\n",
       "      <td>367.648055</td>\n",
       "      <td>408.903992</td>\n",
       "    </tr>\n",
       "    <tr>\n",
       "      <th>9/21/14</th>\n",
       "      <td>408.084991</td>\n",
       "      <td>467.565274</td>\n",
       "      <td>416.859003</td>\n",
       "      <td>366.152731</td>\n",
       "      <td>398.821014</td>\n",
       "    </tr>\n",
       "    <tr>\n",
       "      <th>9/22/14</th>\n",
       "      <td>399.100006</td>\n",
       "      <td>461.323696</td>\n",
       "      <td>414.407837</td>\n",
       "      <td>367.491977</td>\n",
       "      <td>402.152008</td>\n",
       "    </tr>\n",
       "    <tr>\n",
       "      <th>...</th>\n",
       "      <td>...</td>\n",
       "      <td>...</td>\n",
       "      <td>...</td>\n",
       "      <td>...</td>\n",
       "      <td>...</td>\n",
       "    </tr>\n",
       "    <tr>\n",
       "      <th>4/18/23</th>\n",
       "      <td>29449.091800</td>\n",
       "      <td>31179.228064</td>\n",
       "      <td>29044.891894</td>\n",
       "      <td>26910.555725</td>\n",
       "      <td>30397.552730</td>\n",
       "    </tr>\n",
       "    <tr>\n",
       "      <th>4/19/23</th>\n",
       "      <td>30394.187500</td>\n",
       "      <td>31168.552134</td>\n",
       "      <td>29084.347754</td>\n",
       "      <td>27000.143374</td>\n",
       "      <td>28822.679690</td>\n",
       "    </tr>\n",
       "    <tr>\n",
       "      <th>4/20/23</th>\n",
       "      <td>28823.683590</td>\n",
       "      <td>31173.681927</td>\n",
       "      <td>29072.722949</td>\n",
       "      <td>26971.763971</td>\n",
       "      <td>28245.988280</td>\n",
       "    </tr>\n",
       "    <tr>\n",
       "      <th>4/21/23</th>\n",
       "      <td>28249.230470</td>\n",
       "      <td>31249.231839</td>\n",
       "      <td>29016.016699</td>\n",
       "      <td>26782.801559</td>\n",
       "      <td>27276.910160</td>\n",
       "    </tr>\n",
       "    <tr>\n",
       "      <th>4/22/23</th>\n",
       "      <td>27265.894530</td>\n",
       "      <td>31265.780750</td>\n",
       "      <td>28996.926269</td>\n",
       "      <td>26728.071789</td>\n",
       "      <td>27817.500000</td>\n",
       "    </tr>\n",
       "  </tbody>\n",
       "</table>\n",
       "<p>3139 rows × 5 columns</p>\n",
       "</div>"
      ],
      "text/plain": [
       "                 open      BB_Upper        BB_Mid        BB_Low         close\n",
       "date                                                                         \n",
       "9/18/14    456.859985    487.406168    440.887008    394.367849    424.440002\n",
       "9/19/14    424.102997    488.089504    425.523336    362.957167    394.795990\n",
       "9/20/14    394.673004    475.088945    421.368500    367.648055    408.903992\n",
       "9/21/14    408.084991    467.565274    416.859003    366.152731    398.821014\n",
       "9/22/14    399.100006    461.323696    414.407837    367.491977    402.152008\n",
       "...               ...           ...           ...           ...           ...\n",
       "4/18/23  29449.091800  31179.228064  29044.891894  26910.555725  30397.552730\n",
       "4/19/23  30394.187500  31168.552134  29084.347754  27000.143374  28822.679690\n",
       "4/20/23  28823.683590  31173.681927  29072.722949  26971.763971  28245.988280\n",
       "4/21/23  28249.230470  31249.231839  29016.016699  26782.801559  27276.910160\n",
       "4/22/23  27265.894530  31265.780750  28996.926269  26728.071789  27817.500000\n",
       "\n",
       "[3139 rows x 5 columns]"
      ]
     },
     "execution_count": 7,
     "metadata": {},
     "output_type": "execute_result"
    }
   ],
   "source": [
    "df"
   ]
  },
  {
   "cell_type": "markdown",
   "id": "6364776f",
   "metadata": {},
   "source": [
    "## Dataset Summary"
   ]
  },
  {
   "cell_type": "code",
   "execution_count": 8,
   "id": "ff234f6b",
   "metadata": {},
   "outputs": [],
   "source": [
    "df_chart = df.copy()"
   ]
  },
  {
   "cell_type": "code",
   "execution_count": 9,
   "id": "aace7fbc",
   "metadata": {
    "scrolled": true
   },
   "outputs": [
    {
     "data": {
      "image/png": "[encoded data removed]",
      "text/plain": [
       "<Figure size 1500x500 with 1 Axes>"
      ]
     },
     "metadata": {},
     "output_type": "display_data"
    }
   ],
   "source": [
    "plt.figure(figsize=(15,5))\n",
    "plt.plot(df_chart.index, df_chart['close'], color='red', label='close')\n",
    "plt.plot(df_chart.index, df_chart['open'], color='blue', label='open')\n",
    "plt.plot(df_chart.index, df_chart['BB_Upper'], color='magenta', label='BB_Upper')\n",
    "plt.plot(df_chart.index, df_chart['BB_Mid'], color='lightgreen', label='BB_Mid')\n",
    "plt.plot(df_chart.index, df_chart['BB_Low'], color='lightblue', label='BB_Low')\n",
    "plt.title('1-Day Historical Data of Bitcoin Price', fontsize=15)\n",
    "plt.ylabel('Bitcoin Price')\n",
    "plt.xlabel('Time')\n",
    "plt.legend()\n",
    "\n",
    "plt.show()"
   ]
  },
  {
   "cell_type": "markdown",
   "id": "0c5c7a8f",
   "metadata": {},
   "source": [
    "## Data featuring"
   ]
  },
  {
   "cell_type": "code",
   "execution_count": 10,
   "id": "def9f4be",
   "metadata": {},
   "outputs": [],
   "source": [
    "feature_df = df.iloc[:,0:df.shape[1]]\n",
    "\n",
    "scaler = MinMaxScaler(feature_range = (0,1))\n",
    "\n",
    "scaled_features = scaler.fit_transform(feature_df.iloc[:,0:df.shape[1]-1].values)\n",
    "scaled_targets = scaler.fit_transform(feature_df.iloc[:,df.shape[1]-1:df.shape[1]].values)\n",
    "\n",
    "df_ft = pd.DataFrame(columns=feature_df.columns[0:df.shape[1]-1],\n",
    "                         data=scaled_features,\n",
    "                         index=feature_df.index)\n",
    "\n",
    "df_y = pd.DataFrame(columns=feature_df.columns[df.shape[1]-1:df.shape[1]],\n",
    "                         data=scaled_targets,\n",
    "                         index=feature_df.index)"
   ]
  },
  {
   "cell_type": "code",
   "execution_count": 11,
   "id": "1e7a275b",
   "metadata": {},
   "outputs": [
    {
     "data": {
      "text/html": [
       "<div>\n",
       "<style scoped>\n",
       "    .dataframe tbody tr th:only-of-type {\n",
       "        vertical-align: middle;\n",
       "    }\n",
       "\n",
       "    .dataframe tbody tr th {\n",
       "        vertical-align: top;\n",
       "    }\n",
       "\n",
       "    .dataframe thead th {\n",
       "        text-align: right;\n",
       "    }\n",
       "</style>\n",
       "<table border=\"1\" class=\"dataframe\">\n",
       "  <thead>\n",
       "    <tr style=\"text-align: right;\">\n",
       "      <th></th>\n",
       "      <th>open</th>\n",
       "      <th>BB_Upper</th>\n",
       "      <th>BB_Mid</th>\n",
       "      <th>BB_Low</th>\n",
       "    </tr>\n",
       "    <tr>\n",
       "      <th>date</th>\n",
       "      <th></th>\n",
       "      <th></th>\n",
       "      <th></th>\n",
       "      <th></th>\n",
       "    </tr>\n",
       "  </thead>\n",
       "  <tbody>\n",
       "    <tr>\n",
       "      <th>9/18/14</th>\n",
       "      <td>0.004155</td>\n",
       "      <td>0.003600</td>\n",
       "      <td>0.003409</td>\n",
       "      <td>0.003818</td>\n",
       "    </tr>\n",
       "    <tr>\n",
       "      <th>9/19/14</th>\n",
       "      <td>0.003669</td>\n",
       "      <td>0.003610</td>\n",
       "      <td>0.003165</td>\n",
       "      <td>0.003284</td>\n",
       "    </tr>\n",
       "    <tr>\n",
       "      <th>9/20/14</th>\n",
       "      <td>0.003232</td>\n",
       "      <td>0.003421</td>\n",
       "      <td>0.003099</td>\n",
       "      <td>0.003363</td>\n",
       "    </tr>\n",
       "    <tr>\n",
       "      <th>9/21/14</th>\n",
       "      <td>0.003431</td>\n",
       "      <td>0.003312</td>\n",
       "      <td>0.003027</td>\n",
       "      <td>0.003338</td>\n",
       "    </tr>\n",
       "    <tr>\n",
       "      <th>9/22/14</th>\n",
       "      <td>0.003298</td>\n",
       "      <td>0.003222</td>\n",
       "      <td>0.002988</td>\n",
       "      <td>0.003361</td>\n",
       "    </tr>\n",
       "    <tr>\n",
       "      <th>...</th>\n",
       "      <td>...</td>\n",
       "      <td>...</td>\n",
       "      <td>...</td>\n",
       "      <td>...</td>\n",
       "    </tr>\n",
       "    <tr>\n",
       "      <th>4/18/23</th>\n",
       "      <td>0.434481</td>\n",
       "      <td>0.448272</td>\n",
       "      <td>0.457997</td>\n",
       "      <td>0.455059</td>\n",
       "    </tr>\n",
       "    <tr>\n",
       "      <th>4/19/23</th>\n",
       "      <td>0.448509</td>\n",
       "      <td>0.448117</td>\n",
       "      <td>0.458624</td>\n",
       "      <td>0.456583</td>\n",
       "    </tr>\n",
       "    <tr>\n",
       "      <th>4/20/23</th>\n",
       "      <td>0.425198</td>\n",
       "      <td>0.448191</td>\n",
       "      <td>0.458439</td>\n",
       "      <td>0.456100</td>\n",
       "    </tr>\n",
       "    <tr>\n",
       "      <th>4/21/23</th>\n",
       "      <td>0.416671</td>\n",
       "      <td>0.449286</td>\n",
       "      <td>0.457538</td>\n",
       "      <td>0.452885</td>\n",
       "    </tr>\n",
       "    <tr>\n",
       "      <th>4/22/23</th>\n",
       "      <td>0.402076</td>\n",
       "      <td>0.449526</td>\n",
       "      <td>0.457235</td>\n",
       "      <td>0.451953</td>\n",
       "    </tr>\n",
       "  </tbody>\n",
       "</table>\n",
       "<p>3139 rows × 4 columns</p>\n",
       "</div>"
      ],
      "text/plain": [
       "             open  BB_Upper    BB_Mid    BB_Low\n",
       "date                                           \n",
       "9/18/14  0.004155  0.003600  0.003409  0.003818\n",
       "9/19/14  0.003669  0.003610  0.003165  0.003284\n",
       "9/20/14  0.003232  0.003421  0.003099  0.003363\n",
       "9/21/14  0.003431  0.003312  0.003027  0.003338\n",
       "9/22/14  0.003298  0.003222  0.002988  0.003361\n",
       "...           ...       ...       ...       ...\n",
       "4/18/23  0.434481  0.448272  0.457997  0.455059\n",
       "4/19/23  0.448509  0.448117  0.458624  0.456583\n",
       "4/20/23  0.425198  0.448191  0.458439  0.456100\n",
       "4/21/23  0.416671  0.449286  0.457538  0.452885\n",
       "4/22/23  0.402076  0.449526  0.457235  0.451953\n",
       "\n",
       "[3139 rows x 4 columns]"
      ]
     },
     "execution_count": 11,
     "metadata": {},
     "output_type": "execute_result"
    }
   ],
   "source": [
    "df_ft"
   ]
  },
  {
   "cell_type": "code",
   "execution_count": 12,
   "id": "0617506e",
   "metadata": {},
   "outputs": [
    {
     "data": {
      "text/html": [
       "<div>\n",
       "<style scoped>\n",
       "    .dataframe tbody tr th:only-of-type {\n",
       "        vertical-align: middle;\n",
       "    }\n",
       "\n",
       "    .dataframe tbody tr th {\n",
       "        vertical-align: top;\n",
       "    }\n",
       "\n",
       "    .dataframe thead th {\n",
       "        text-align: right;\n",
       "    }\n",
       "</style>\n",
       "<table border=\"1\" class=\"dataframe\">\n",
       "  <thead>\n",
       "    <tr style=\"text-align: right;\">\n",
       "      <th></th>\n",
       "      <th>close</th>\n",
       "    </tr>\n",
       "    <tr>\n",
       "      <th>date</th>\n",
       "      <th></th>\n",
       "    </tr>\n",
       "  </thead>\n",
       "  <tbody>\n",
       "    <tr>\n",
       "      <th>9/18/14</th>\n",
       "      <td>0.003655</td>\n",
       "    </tr>\n",
       "    <tr>\n",
       "      <th>9/19/14</th>\n",
       "      <td>0.003216</td>\n",
       "    </tr>\n",
       "    <tr>\n",
       "      <th>9/20/14</th>\n",
       "      <td>0.003425</td>\n",
       "    </tr>\n",
       "    <tr>\n",
       "      <th>9/21/14</th>\n",
       "      <td>0.003275</td>\n",
       "    </tr>\n",
       "    <tr>\n",
       "      <th>9/22/14</th>\n",
       "      <td>0.003325</td>\n",
       "    </tr>\n",
       "    <tr>\n",
       "      <th>...</th>\n",
       "      <td>...</td>\n",
       "    </tr>\n",
       "    <tr>\n",
       "      <th>4/18/23</th>\n",
       "      <td>0.448435</td>\n",
       "    </tr>\n",
       "    <tr>\n",
       "      <th>4/19/23</th>\n",
       "      <td>0.425065</td>\n",
       "    </tr>\n",
       "    <tr>\n",
       "      <th>4/20/23</th>\n",
       "      <td>0.416507</td>\n",
       "    </tr>\n",
       "    <tr>\n",
       "      <th>4/21/23</th>\n",
       "      <td>0.402127</td>\n",
       "    </tr>\n",
       "    <tr>\n",
       "      <th>4/22/23</th>\n",
       "      <td>0.410149</td>\n",
       "    </tr>\n",
       "  </tbody>\n",
       "</table>\n",
       "<p>3139 rows × 1 columns</p>\n",
       "</div>"
      ],
      "text/plain": [
       "            close\n",
       "date             \n",
       "9/18/14  0.003655\n",
       "9/19/14  0.003216\n",
       "9/20/14  0.003425\n",
       "9/21/14  0.003275\n",
       "9/22/14  0.003325\n",
       "...           ...\n",
       "4/18/23  0.448435\n",
       "4/19/23  0.425065\n",
       "4/20/23  0.416507\n",
       "4/21/23  0.402127\n",
       "4/22/23  0.410149\n",
       "\n",
       "[3139 rows x 1 columns]"
      ]
     },
     "execution_count": 12,
     "metadata": {},
     "output_type": "execute_result"
    }
   ],
   "source": [
    "df_y"
   ]
  },
  {
   "cell_type": "code",
   "execution_count": 13,
   "id": "16362112",
   "metadata": {},
   "outputs": [],
   "source": [
    "def lstm_split(data, target, n_steps):\n",
    "    X, y = [], []\n",
    "    for i in range(len(data) - n_steps + 1):\n",
    "        X.append(data[i:i + n_steps, 0:df.shape[1]-1])\n",
    "        y.append(target[i:i+1, -1])\n",
    "    return np.array(X), np.array(y)\n",
    "\n",
    "def lstm_split2(data, n_steps):\n",
    "    X = []\n",
    "    for i in range(len(data) - n_steps + 1):\n",
    "        X.append(data[i:i + n_steps, 0:df2.shape[1]-1])\n",
    "    return np.array(X)"
   ]
  },
  {
   "cell_type": "code",
   "execution_count": 14,
   "id": "533c40ee",
   "metadata": {},
   "outputs": [],
   "source": [
    "n_steps = 100\n",
    "X1, y1 = lstm_split(df_ft.values, df_y.values, n_steps)"
   ]
  },
  {
   "cell_type": "code",
   "execution_count": 15,
   "id": "66ed3765",
   "metadata": {},
   "outputs": [
    {
     "name": "stdout",
     "output_type": "stream",
     "text": [
      "(3040, 100, 4) (3040, 1)\n"
     ]
    }
   ],
   "source": [
    "print(X1.shape, y1.shape)"
   ]
  },
  {
   "cell_type": "code",
   "execution_count": 16,
   "id": "30652036",
   "metadata": {},
   "outputs": [],
   "source": [
    "X_train, X_test, y_train, y_test = train_test_split(X1, y1, test_size=0.3, random_state=42)"
   ]
  },
  {
   "cell_type": "code",
   "execution_count": 17,
   "id": "48653437",
   "metadata": {},
   "outputs": [
    {
     "name": "stdout",
     "output_type": "stream",
     "text": [
      "(2128, 100, 4) (2128, 1) (912, 100, 4) (912, 1)\n"
     ]
    }
   ],
   "source": [
    "print(X_train.shape, y_train.shape, X_test.shape, y_test.shape)"
   ]
  },
  {
   "cell_type": "markdown",
   "id": "3f8d6383",
   "metadata": {},
   "source": [
    "## LSTM model"
   ]
  },
  {
   "cell_type": "code",
   "execution_count": 18,
   "id": "13ed19d3",
   "metadata": {},
   "outputs": [
    {
     "name": "stdout",
     "output_type": "stream",
     "text": [
      "Metal device set to: Apple M2\n"
     ]
    }
   ],
   "source": [
    "model = Sequential ()\n",
    "model. add(LSTM(units = 100, return_sequences= True, input_shape = (X_train.shape[1], X_train.shape[2])))\n",
    "model. add (Dropout (0.2))\n",
    "model. add (LSTM(units = 50, return_sequences= True))\n",
    "model. add (Dropout (0.2))\n",
    "model. add(LSTM(units = 100, return_sequences= True))\n",
    "model. add(Dropout (0.2))\n",
    "model.add(LSTM(units = 50))\n",
    "model.add(Dropout (0.2))\n",
    "model.add(Dense (units=1))\n",
    "\n",
    "model.compile(optimizer='adam', loss='mean_squared_error')"
   ]
  },
  {
   "cell_type": "markdown",
   "id": "9f7da2a7",
   "metadata": {},
   "source": [
    "## model Summary"
   ]
  },
  {
   "cell_type": "code",
   "execution_count": 19,
   "id": "e56fa60e",
   "metadata": {},
   "outputs": [
    {
     "name": "stdout",
     "output_type": "stream",
     "text": [
      "Model: \"sequential\"\n",
      "_________________________________________________________________\n",
      " Layer (type)                Output Shape              Param #   \n",
      "=================================================================\n",
      " lstm (LSTM)                 (None, 100, 100)          42000     \n",
      "                                                                 \n",
      " dropout (Dropout)           (None, 100, 100)          0         \n",
      "                                                                 \n",
      " lstm_1 (LSTM)               (None, 100, 50)           30200     \n",
      "                                                                 \n",
      " dropout_1 (Dropout)         (None, 100, 50)           0         \n",
      "                                                                 \n",
      " lstm_2 (LSTM)               (None, 100, 100)          60400     \n",
      "                                                                 \n",
      " dropout_2 (Dropout)         (None, 100, 100)          0         \n",
      "                                                                 \n",
      " lstm_3 (LSTM)               (None, 50)                30200     \n",
      "                                                                 \n",
      " dropout_3 (Dropout)         (None, 50)                0         \n",
      "                                                                 \n",
      " dense (Dense)               (None, 1)                 51        \n",
      "                                                                 \n",
      "=================================================================\n",
      "Total params: 162,851\n",
      "Trainable params: 162,851\n",
      "Non-trainable params: 0\n",
      "_________________________________________________________________\n"
     ]
    }
   ],
   "source": [
    "model.summary()"
   ]
  },
  {
   "cell_type": "code",
   "execution_count": 20,
   "id": "712e7dde",
   "metadata": {},
   "outputs": [
    {
     "name": "stdout",
     "output_type": "stream",
     "text": [
      "Epoch 1/50\n"
     ]
    },
    {
     "name": "stderr",
     "output_type": "stream",
     "text": [
      "2023-04-23 19:37:01.535851: W tensorflow/tsl/platform/profile_utils/cpu_utils.cc:128] Failed to get CPU frequency: 0 Hz\n"
     ]
    },
    {
     "name": "stdout",
     "output_type": "stream",
     "text": [
      "67/67 [==============================] - 6s 43ms/step - loss: 0.0182\n",
      "Epoch 2/50\n",
      "67/67 [==============================] - 3s 46ms/step - loss: 0.0124\n",
      "Epoch 3/50\n",
      "67/67 [==============================] - 3s 48ms/step - loss: 0.0079\n",
      "Epoch 4/50\n",
      "67/67 [==============================] - 3s 39ms/step - loss: 0.0064\n",
      "Epoch 5/50\n",
      "67/67 [==============================] - 3s 45ms/step - loss: 0.0049\n",
      "Epoch 6/50\n",
      "67/67 [==============================] - 3s 38ms/step - loss: 0.0038\n",
      "Epoch 7/50\n",
      "67/67 [==============================] - 3s 38ms/step - loss: 0.0040\n",
      "Epoch 8/50\n",
      "67/67 [==============================] - 3s 43ms/step - loss: 0.0026\n",
      "Epoch 9/50\n",
      "67/67 [==============================] - 3s 42ms/step - loss: 0.0022\n",
      "Epoch 10/50\n",
      "67/67 [==============================] - 3s 42ms/step - loss: 0.0017\n",
      "Epoch 11/50\n",
      "67/67 [==============================] - 3s 38ms/step - loss: 0.0020\n",
      "Epoch 12/50\n",
      "67/67 [==============================] - 3s 39ms/step - loss: 0.0015\n",
      "Epoch 13/50\n",
      "67/67 [==============================] - 3s 41ms/step - loss: 0.0021\n",
      "Epoch 14/50\n",
      "67/67 [==============================] - 3s 43ms/step - loss: 0.0016\n",
      "Epoch 15/50\n",
      "67/67 [==============================] - 3s 39ms/step - loss: 0.0013\n",
      "Epoch 16/50\n",
      "67/67 [==============================] - 3s 39ms/step - loss: 0.0014\n",
      "Epoch 17/50\n",
      "67/67 [==============================] - 3s 40ms/step - loss: 0.0010\n",
      "Epoch 18/50\n",
      "67/67 [==============================] - 3s 39ms/step - loss: 0.0012\n",
      "Epoch 19/50\n",
      "67/67 [==============================] - 3s 38ms/step - loss: 9.2908e-04\n",
      "Epoch 20/50\n",
      "67/67 [==============================] - 3s 45ms/step - loss: 0.0012\n",
      "Epoch 21/50\n",
      "67/67 [==============================] - 3s 40ms/step - loss: 8.8730e-04\n",
      "Epoch 22/50\n",
      "67/67 [==============================] - 3s 42ms/step - loss: 9.7800e-04\n",
      "Epoch 23/50\n",
      "67/67 [==============================] - 3s 39ms/step - loss: 0.0012\n",
      "Epoch 24/50\n",
      "67/67 [==============================] - 3s 42ms/step - loss: 0.0011\n",
      "Epoch 25/50\n",
      "67/67 [==============================] - 3s 39ms/step - loss: 0.0010\n",
      "Epoch 26/50\n",
      "67/67 [==============================] - 3s 40ms/step - loss: 0.0011\n",
      "Epoch 27/50\n",
      "67/67 [==============================] - 3s 39ms/step - loss: 9.5245e-04\n",
      "Epoch 28/50\n",
      "67/67 [==============================] - 3s 43ms/step - loss: 9.4431e-04\n",
      "Epoch 29/50\n",
      "67/67 [==============================] - 3s 40ms/step - loss: 8.3160e-04\n",
      "Epoch 30/50\n",
      "67/67 [==============================] - 3s 40ms/step - loss: 8.6905e-04\n",
      "Epoch 31/50\n",
      "67/67 [==============================] - 3s 40ms/step - loss: 0.0010\n",
      "Epoch 32/50\n",
      "67/67 [==============================] - 3s 42ms/step - loss: 0.0010\n",
      "Epoch 33/50\n",
      "67/67 [==============================] - 3s 39ms/step - loss: 9.5307e-04\n",
      "Epoch 34/50\n",
      "67/67 [==============================] - 4s 59ms/step - loss: 8.6729e-04\n",
      "Epoch 35/50\n",
      "67/67 [==============================] - 5s 74ms/step - loss: 8.4276e-04\n",
      "Epoch 36/50\n",
      "67/67 [==============================] - 9s 132ms/step - loss: 9.5022e-04\n",
      "Epoch 37/50\n",
      "67/67 [==============================] - 3s 50ms/step - loss: 6.8636e-04\n",
      "Epoch 38/50\n",
      "67/67 [==============================] - 4s 56ms/step - loss: 7.4216e-04\n",
      "Epoch 39/50\n",
      "67/67 [==============================] - 4s 61ms/step - loss: 5.8608e-04\n",
      "Epoch 40/50\n",
      "67/67 [==============================] - 3s 38ms/step - loss: 5.3573e-04\n",
      "Epoch 41/50\n",
      "67/67 [==============================] - 3s 43ms/step - loss: 5.9512e-04\n",
      "Epoch 42/50\n",
      "67/67 [==============================] - 4s 53ms/step - loss: 7.4662e-04\n",
      "Epoch 43/50\n",
      "67/67 [==============================] - 3s 45ms/step - loss: 0.0012\n",
      "Epoch 44/50\n",
      "67/67 [==============================] - 3s 39ms/step - loss: 7.4156e-04\n",
      "Epoch 45/50\n",
      "67/67 [==============================] - 3s 43ms/step - loss: 6.6709e-04\n",
      "Epoch 46/50\n",
      "67/67 [==============================] - 3s 39ms/step - loss: 0.0010\n",
      "Epoch 47/50\n",
      "67/67 [==============================] - 3s 38ms/step - loss: 7.6810e-04\n",
      "Epoch 48/50\n",
      "67/67 [==============================] - 3s 38ms/step - loss: 6.8689e-04\n",
      "Epoch 49/50\n",
      "67/67 [==============================] - 3s 40ms/step - loss: 7.2159e-04\n",
      "Epoch 50/50\n",
      "67/67 [==============================] - 3s 43ms/step - loss: 6.6395e-04\n"
     ]
    },
    {
     "data": {
      "text/plain": [
       "<keras.callbacks.History at 0x2c6c68df0>"
      ]
     },
     "execution_count": 20,
     "metadata": {},
     "output_type": "execute_result"
    }
   ],
   "source": [
    "model.fit(X_train, y_train, epochs=50, batch_size=32)"
   ]
  },
  {
   "cell_type": "markdown",
   "id": "358bb6bd",
   "metadata": {},
   "source": [
    "## Evaluate"
   ]
  },
  {
   "cell_type": "code",
   "execution_count": 21,
   "id": "dce52f66",
   "metadata": {},
   "outputs": [
    {
     "name": "stdout",
     "output_type": "stream",
     "text": [
      "29/29 [==============================] - 2s 15ms/step\n"
     ]
    }
   ],
   "source": [
    "y_pred = model.predict(X_test)"
   ]
  },
  {
   "cell_type": "code",
   "execution_count": 22,
   "id": "3bd0fd78",
   "metadata": {},
   "outputs": [
    {
     "data": {
      "image/png": "[encoded data removed]",
      "text/plain": [
       "<Figure size 640x480 with 1 Axes>"
      ]
     },
     "metadata": {},
     "output_type": "display_data"
    }
   ],
   "source": [
    "error_rates = (y_test.reshape(-1, 1) - y_pred) / y_test.reshape(-1, 1) * 100\n",
    "average_error_rate = np.sum(error_rates)/len(error_rates)\n",
    "plt.plot(error_rates)\n",
    "plt.text(120,-55, f'{average_error_rate:.2f}%', fontsize = 22, bbox = dict(facecolor = 'red', alpha = 0.3))\n",
    "plt.title('Error Rate')\n",
    "plt.xlabel('Time')\n",
    "plt.ylabel('Error')\n",
    "plt.show()"
   ]
  },
  {
   "cell_type": "code",
   "execution_count": 23,
   "id": "81ca2a36",
   "metadata": {},
   "outputs": [
    {
     "data": {
      "image/png": "[encoded data removed]",
      "text/plain": [
       "<Figure size 640x480 with 1 Axes>"
      ]
     },
     "metadata": {},
     "output_type": "display_data"
    }
   ],
   "source": [
    "y_test_index = range(len(y_test))\n",
    "\n",
    "y_test_series = pd.Series(y_test.reshape(-1,), index=y_test_index)\n",
    "y_pred_series = pd.Series(y_pred.reshape(-1,), index=y_test_index)\n",
    "\n",
    "plt.scatter(y_test_series.index, y_test_series, color='red', label='Real Price', s=3)\n",
    "plt.scatter(y_pred_series.index, y_pred_series, color='blue', label='Predicted Price', s=3)\n",
    "plt.title('Bitcoin Price Prediction')\n",
    "plt.xlabel('Time')\n",
    "plt.ylabel('Price')\n",
    "plt.legend()\n",
    "plt.show()"
   ]
  },
  {
   "cell_type": "markdown",
   "id": "c88e9a77",
   "metadata": {},
   "source": [
    "## Predicting Today's closing price\n",
    "## To predict today's price, you need to download at least n_step previous data"
   ]
  },
  {
   "cell_type": "code",
   "execution_count": 42,
   "id": "e1d15fdd",
   "metadata": {},
   "outputs": [],
   "source": [
    "df2 = pd.read_csv(\"../DataSets/BTC-USD2.csv\")\n",
    "df2 = df2.dropna()\n",
    "del df2['High']\n",
    "del df2['Low']\n",
    "del df2['Adj Close']\n",
    "del df2['Volume']"
   ]
  },
  {
   "cell_type": "code",
   "execution_count": 43,
   "id": "b2e35469",
   "metadata": {},
   "outputs": [
    {
     "data": {
      "text/html": [
       "<div>\n",
       "<style scoped>\n",
       "    .dataframe tbody tr th:only-of-type {\n",
       "        vertical-align: middle;\n",
       "    }\n",
       "\n",
       "    .dataframe tbody tr th {\n",
       "        vertical-align: top;\n",
       "    }\n",
       "\n",
       "    .dataframe thead th {\n",
       "        text-align: right;\n",
       "    }\n",
       "</style>\n",
       "<table border=\"1\" class=\"dataframe\">\n",
       "  <thead>\n",
       "    <tr style=\"text-align: right;\">\n",
       "      <th></th>\n",
       "      <th>Date</th>\n",
       "      <th>Open</th>\n",
       "      <th>Close</th>\n",
       "    </tr>\n",
       "  </thead>\n",
       "  <tbody>\n",
       "    <tr>\n",
       "      <th>0</th>\n",
       "      <td>2023-01-13</td>\n",
       "      <td>18868.906250</td>\n",
       "      <td>19909.574219</td>\n",
       "    </tr>\n",
       "    <tr>\n",
       "      <th>1</th>\n",
       "      <td>2023-01-14</td>\n",
       "      <td>19910.537109</td>\n",
       "      <td>20976.298828</td>\n",
       "    </tr>\n",
       "    <tr>\n",
       "      <th>2</th>\n",
       "      <td>2023-01-15</td>\n",
       "      <td>20977.484375</td>\n",
       "      <td>20880.798828</td>\n",
       "    </tr>\n",
       "    <tr>\n",
       "      <th>3</th>\n",
       "      <td>2023-01-16</td>\n",
       "      <td>20882.224609</td>\n",
       "      <td>21169.632813</td>\n",
       "    </tr>\n",
       "    <tr>\n",
       "      <th>4</th>\n",
       "      <td>2023-01-17</td>\n",
       "      <td>21175.833984</td>\n",
       "      <td>21161.519531</td>\n",
       "    </tr>\n",
       "    <tr>\n",
       "      <th>...</th>\n",
       "      <td>...</td>\n",
       "      <td>...</td>\n",
       "      <td>...</td>\n",
       "    </tr>\n",
       "    <tr>\n",
       "      <th>95</th>\n",
       "      <td>2023-04-18</td>\n",
       "      <td>29449.091797</td>\n",
       "      <td>30397.552734</td>\n",
       "    </tr>\n",
       "    <tr>\n",
       "      <th>96</th>\n",
       "      <td>2023-04-19</td>\n",
       "      <td>30394.187500</td>\n",
       "      <td>28822.679688</td>\n",
       "    </tr>\n",
       "    <tr>\n",
       "      <th>97</th>\n",
       "      <td>2023-04-20</td>\n",
       "      <td>28823.683594</td>\n",
       "      <td>28245.988281</td>\n",
       "    </tr>\n",
       "    <tr>\n",
       "      <th>98</th>\n",
       "      <td>2023-04-21</td>\n",
       "      <td>28249.230469</td>\n",
       "      <td>27276.910156</td>\n",
       "    </tr>\n",
       "    <tr>\n",
       "      <th>99</th>\n",
       "      <td>2023-04-22</td>\n",
       "      <td>27274.150391</td>\n",
       "      <td>27338.378906</td>\n",
       "    </tr>\n",
       "  </tbody>\n",
       "</table>\n",
       "<p>100 rows × 3 columns</p>\n",
       "</div>"
      ],
      "text/plain": [
       "          Date          Open         Close\n",
       "0   2023-01-13  18868.906250  19909.574219\n",
       "1   2023-01-14  19910.537109  20976.298828\n",
       "2   2023-01-15  20977.484375  20880.798828\n",
       "3   2023-01-16  20882.224609  21169.632813\n",
       "4   2023-01-17  21175.833984  21161.519531\n",
       "..         ...           ...           ...\n",
       "95  2023-04-18  29449.091797  30397.552734\n",
       "96  2023-04-19  30394.187500  28822.679688\n",
       "97  2023-04-20  28823.683594  28245.988281\n",
       "98  2023-04-21  28249.230469  27276.910156\n",
       "99  2023-04-22  27274.150391  27338.378906\n",
       "\n",
       "[100 rows x 3 columns]"
      ]
     },
     "execution_count": 43,
     "metadata": {},
     "output_type": "execute_result"
    }
   ],
   "source": [
    "df2"
   ]
  },
  {
   "cell_type": "code",
   "execution_count": 44,
   "id": "02613fc0",
   "metadata": {},
   "outputs": [],
   "source": [
    "Open = 27804.27\n",
    "TODAY = pd.DataFrame({'Date': ['2023-04-23'], \n",
    "                            'Open': [Open], \n",
    "                            'Close': [np.nan]})"
   ]
  },
  {
   "cell_type": "code",
   "execution_count": 45,
   "id": "038c4eed",
   "metadata": {},
   "outputs": [
    {
     "data": {
      "text/html": [
       "<div>\n",
       "<style scoped>\n",
       "    .dataframe tbody tr th:only-of-type {\n",
       "        vertical-align: middle;\n",
       "    }\n",
       "\n",
       "    .dataframe tbody tr th {\n",
       "        vertical-align: top;\n",
       "    }\n",
       "\n",
       "    .dataframe thead th {\n",
       "        text-align: right;\n",
       "    }\n",
       "</style>\n",
       "<table border=\"1\" class=\"dataframe\">\n",
       "  <thead>\n",
       "    <tr style=\"text-align: right;\">\n",
       "      <th></th>\n",
       "      <th>Date</th>\n",
       "      <th>Open</th>\n",
       "      <th>Close</th>\n",
       "    </tr>\n",
       "  </thead>\n",
       "  <tbody>\n",
       "    <tr>\n",
       "      <th>0</th>\n",
       "      <td>2023-04-23</td>\n",
       "      <td>27804.27</td>\n",
       "      <td>NaN</td>\n",
       "    </tr>\n",
       "  </tbody>\n",
       "</table>\n",
       "</div>"
      ],
      "text/plain": [
       "         Date      Open  Close\n",
       "0  2023-04-23  27804.27    NaN"
      ]
     },
     "execution_count": 45,
     "metadata": {},
     "output_type": "execute_result"
    }
   ],
   "source": [
    "TODAY"
   ]
  },
  {
   "cell_type": "code",
   "execution_count": 46,
   "id": "9f361549",
   "metadata": {},
   "outputs": [],
   "source": [
    "df2 = pd.concat([df2, TODAY], ignore_index=True)"
   ]
  },
  {
   "cell_type": "code",
   "execution_count": 47,
   "id": "d97219c1",
   "metadata": {},
   "outputs": [
    {
     "data": {
      "text/html": [
       "<div>\n",
       "<style scoped>\n",
       "    .dataframe tbody tr th:only-of-type {\n",
       "        vertical-align: middle;\n",
       "    }\n",
       "\n",
       "    .dataframe tbody tr th {\n",
       "        vertical-align: top;\n",
       "    }\n",
       "\n",
       "    .dataframe thead th {\n",
       "        text-align: right;\n",
       "    }\n",
       "</style>\n",
       "<table border=\"1\" class=\"dataframe\">\n",
       "  <thead>\n",
       "    <tr style=\"text-align: right;\">\n",
       "      <th></th>\n",
       "      <th>open</th>\n",
       "      <th>close</th>\n",
       "    </tr>\n",
       "    <tr>\n",
       "      <th>date</th>\n",
       "      <th></th>\n",
       "      <th></th>\n",
       "    </tr>\n",
       "  </thead>\n",
       "  <tbody>\n",
       "    <tr>\n",
       "      <th>2023-01-13</th>\n",
       "      <td>18868.906250</td>\n",
       "      <td>19909.574219</td>\n",
       "    </tr>\n",
       "    <tr>\n",
       "      <th>2023-01-14</th>\n",
       "      <td>19910.537109</td>\n",
       "      <td>20976.298828</td>\n",
       "    </tr>\n",
       "    <tr>\n",
       "      <th>2023-01-15</th>\n",
       "      <td>20977.484375</td>\n",
       "      <td>20880.798828</td>\n",
       "    </tr>\n",
       "    <tr>\n",
       "      <th>2023-01-16</th>\n",
       "      <td>20882.224609</td>\n",
       "      <td>21169.632813</td>\n",
       "    </tr>\n",
       "    <tr>\n",
       "      <th>2023-01-17</th>\n",
       "      <td>21175.833984</td>\n",
       "      <td>21161.519531</td>\n",
       "    </tr>\n",
       "    <tr>\n",
       "      <th>...</th>\n",
       "      <td>...</td>\n",
       "      <td>...</td>\n",
       "    </tr>\n",
       "    <tr>\n",
       "      <th>2023-04-19</th>\n",
       "      <td>30394.187500</td>\n",
       "      <td>28822.679688</td>\n",
       "    </tr>\n",
       "    <tr>\n",
       "      <th>2023-04-20</th>\n",
       "      <td>28823.683594</td>\n",
       "      <td>28245.988281</td>\n",
       "    </tr>\n",
       "    <tr>\n",
       "      <th>2023-04-21</th>\n",
       "      <td>28249.230469</td>\n",
       "      <td>27276.910156</td>\n",
       "    </tr>\n",
       "    <tr>\n",
       "      <th>2023-04-22</th>\n",
       "      <td>27274.150391</td>\n",
       "      <td>27338.378906</td>\n",
       "    </tr>\n",
       "    <tr>\n",
       "      <th>2023-04-23</th>\n",
       "      <td>27804.270000</td>\n",
       "      <td>NaN</td>\n",
       "    </tr>\n",
       "  </tbody>\n",
       "</table>\n",
       "<p>101 rows × 2 columns</p>\n",
       "</div>"
      ],
      "text/plain": [
       "                    open         close\n",
       "date                                  \n",
       "2023-01-13  18868.906250  19909.574219\n",
       "2023-01-14  19910.537109  20976.298828\n",
       "2023-01-15  20977.484375  20880.798828\n",
       "2023-01-16  20882.224609  21169.632813\n",
       "2023-01-17  21175.833984  21161.519531\n",
       "...                  ...           ...\n",
       "2023-04-19  30394.187500  28822.679688\n",
       "2023-04-20  28823.683594  28245.988281\n",
       "2023-04-21  28249.230469  27276.910156\n",
       "2023-04-22  27274.150391  27338.378906\n",
       "2023-04-23  27804.270000           NaN\n",
       "\n",
       "[101 rows x 2 columns]"
      ]
     },
     "execution_count": 47,
     "metadata": {},
     "output_type": "execute_result"
    }
   ],
   "source": [
    "sdf2 = StockDataFrame.retype(df2)\n",
    "sdf2"
   ]
  },
  {
   "cell_type": "markdown",
   "id": "2796cb3f",
   "metadata": {},
   "source": [
    "## BB"
   ]
  },
  {
   "cell_type": "code",
   "execution_count": 48,
   "id": "13f290e7",
   "metadata": {},
   "outputs": [],
   "source": [
    "bbs_m= sdf2.get('boll')\n",
    "bbs_u= sdf2.get('boll_ub')\n",
    "bbs_l=sdf2.get('boll_lb')\n",
    "df2['BB_Upper'] = bbs_u\n",
    "df2['BB_Mid'] = bbs_m\n",
    "df2['BB_Low'] = bbs_l"
   ]
  },
  {
   "cell_type": "code",
   "execution_count": 49,
   "id": "eef96610",
   "metadata": {},
   "outputs": [
    {
     "data": {
      "text/html": [
       "<div>\n",
       "<style scoped>\n",
       "    .dataframe tbody tr th:only-of-type {\n",
       "        vertical-align: middle;\n",
       "    }\n",
       "\n",
       "    .dataframe tbody tr th {\n",
       "        vertical-align: top;\n",
       "    }\n",
       "\n",
       "    .dataframe thead th {\n",
       "        text-align: right;\n",
       "    }\n",
       "</style>\n",
       "<table border=\"1\" class=\"dataframe\">\n",
       "  <thead>\n",
       "    <tr style=\"text-align: right;\">\n",
       "      <th></th>\n",
       "      <th>open</th>\n",
       "      <th>BB_Upper</th>\n",
       "      <th>BB_Mid</th>\n",
       "      <th>BB_Low</th>\n",
       "      <th>close</th>\n",
       "    </tr>\n",
       "    <tr>\n",
       "      <th>date</th>\n",
       "      <th></th>\n",
       "      <th></th>\n",
       "      <th></th>\n",
       "      <th></th>\n",
       "      <th></th>\n",
       "    </tr>\n",
       "  </thead>\n",
       "  <tbody>\n",
       "    <tr>\n",
       "      <th>2023-01-14</th>\n",
       "      <td>19910.537109</td>\n",
       "      <td>21951.512933</td>\n",
       "      <td>20442.936524</td>\n",
       "      <td>18934.360114</td>\n",
       "      <td>20976.298828</td>\n",
       "    </tr>\n",
       "    <tr>\n",
       "      <th>2023-01-15</th>\n",
       "      <td>20977.484375</td>\n",
       "      <td>21769.370438</td>\n",
       "      <td>20588.890625</td>\n",
       "      <td>19408.410812</td>\n",
       "      <td>20880.798828</td>\n",
       "    </tr>\n",
       "    <tr>\n",
       "      <th>2023-01-16</th>\n",
       "      <td>20882.224609</td>\n",
       "      <td>21859.368674</td>\n",
       "      <td>20734.076172</td>\n",
       "      <td>19608.783670</td>\n",
       "      <td>21169.632813</td>\n",
       "    </tr>\n",
       "    <tr>\n",
       "      <th>2023-01-17</th>\n",
       "      <td>21175.833984</td>\n",
       "      <td>21866.407082</td>\n",
       "      <td>20819.564844</td>\n",
       "      <td>19772.722606</td>\n",
       "      <td>21161.519531</td>\n",
       "    </tr>\n",
       "    <tr>\n",
       "      <th>2023-01-18</th>\n",
       "      <td>21161.050781</td>\n",
       "      <td>21740.161252</td>\n",
       "      <td>20797.767578</td>\n",
       "      <td>19855.373905</td>\n",
       "      <td>20688.781250</td>\n",
       "    </tr>\n",
       "    <tr>\n",
       "      <th>...</th>\n",
       "      <td>...</td>\n",
       "      <td>...</td>\n",
       "      <td>...</td>\n",
       "      <td>...</td>\n",
       "      <td>...</td>\n",
       "    </tr>\n",
       "    <tr>\n",
       "      <th>2023-04-19</th>\n",
       "      <td>30394.187500</td>\n",
       "      <td>31168.552136</td>\n",
       "      <td>29084.347754</td>\n",
       "      <td>27000.143372</td>\n",
       "      <td>28822.679688</td>\n",
       "    </tr>\n",
       "    <tr>\n",
       "      <th>2023-04-20</th>\n",
       "      <td>28823.683594</td>\n",
       "      <td>31173.681929</td>\n",
       "      <td>29072.722949</td>\n",
       "      <td>26971.763970</td>\n",
       "      <td>28245.988281</td>\n",
       "    </tr>\n",
       "    <tr>\n",
       "      <th>2023-04-21</th>\n",
       "      <td>28249.230469</td>\n",
       "      <td>31249.231841</td>\n",
       "      <td>29016.016699</td>\n",
       "      <td>26782.801557</td>\n",
       "      <td>27276.910156</td>\n",
       "    </tr>\n",
       "    <tr>\n",
       "      <th>2023-04-22</th>\n",
       "      <td>27274.150391</td>\n",
       "      <td>31303.537497</td>\n",
       "      <td>28972.970215</td>\n",
       "      <td>26642.402932</td>\n",
       "      <td>27338.378906</td>\n",
       "    </tr>\n",
       "    <tr>\n",
       "      <th>2023-04-23</th>\n",
       "      <td>27804.270000</td>\n",
       "      <td>31360.315685</td>\n",
       "      <td>29035.220189</td>\n",
       "      <td>26710.124693</td>\n",
       "      <td>NaN</td>\n",
       "    </tr>\n",
       "  </tbody>\n",
       "</table>\n",
       "<p>100 rows × 5 columns</p>\n",
       "</div>"
      ],
      "text/plain": [
       "                    open      BB_Upper        BB_Mid        BB_Low  \\\n",
       "date                                                                 \n",
       "2023-01-14  19910.537109  21951.512933  20442.936524  18934.360114   \n",
       "2023-01-15  20977.484375  21769.370438  20588.890625  19408.410812   \n",
       "2023-01-16  20882.224609  21859.368674  20734.076172  19608.783670   \n",
       "2023-01-17  21175.833984  21866.407082  20819.564844  19772.722606   \n",
       "2023-01-18  21161.050781  21740.161252  20797.767578  19855.373905   \n",
       "...                  ...           ...           ...           ...   \n",
       "2023-04-19  30394.187500  31168.552136  29084.347754  27000.143372   \n",
       "2023-04-20  28823.683594  31173.681929  29072.722949  26971.763970   \n",
       "2023-04-21  28249.230469  31249.231841  29016.016699  26782.801557   \n",
       "2023-04-22  27274.150391  31303.537497  28972.970215  26642.402932   \n",
       "2023-04-23  27804.270000  31360.315685  29035.220189  26710.124693   \n",
       "\n",
       "                   close  \n",
       "date                      \n",
       "2023-01-14  20976.298828  \n",
       "2023-01-15  20880.798828  \n",
       "2023-01-16  21169.632813  \n",
       "2023-01-17  21161.519531  \n",
       "2023-01-18  20688.781250  \n",
       "...                  ...  \n",
       "2023-04-19  28822.679688  \n",
       "2023-04-20  28245.988281  \n",
       "2023-04-21  27276.910156  \n",
       "2023-04-22  27338.378906  \n",
       "2023-04-23           NaN  \n",
       "\n",
       "[100 rows x 5 columns]"
      ]
     },
     "execution_count": 49,
     "metadata": {},
     "output_type": "execute_result"
    }
   ],
   "source": [
    "new_order2 = ['open', 'BB_Upper', 'BB_Mid', 'BB_Low', 'close']\n",
    "df2 = df2.iloc[1:df2.shape[0],:]\n",
    "df2 = df2.reindex(columns=new_order2)\n",
    "df2"
   ]
  },
  {
   "cell_type": "code",
   "execution_count": 50,
   "id": "66dffe52",
   "metadata": {},
   "outputs": [
    {
     "data": {
      "text/plain": [
       "100"
      ]
     },
     "execution_count": 50,
     "metadata": {},
     "output_type": "execute_result"
    }
   ],
   "source": [
    "df2.shape[0]"
   ]
  },
  {
   "cell_type": "code",
   "execution_count": 51,
   "id": "eb6fa653",
   "metadata": {},
   "outputs": [],
   "source": [
    "feature_df2 = df2.iloc[:,0:df2.shape[1]]\n",
    "\n",
    "scaler = MinMaxScaler(feature_range = (0,1))\n",
    "\n",
    "scaled_features2 = scaler.fit_transform(feature_df2.iloc[:,0:df2.shape[1]-1].values)\n",
    "scaled_targets2 = scaler.fit_transform(feature_df2.iloc[:,df2.shape[1]-1:df2.shape[1]].values)\n",
    "\n",
    "df_ft2 = pd.DataFrame(columns=feature_df2.columns[0:df2.shape[1]-1],\n",
    "                         data=scaled_features2,\n",
    "                         index=feature_df2.index)\n",
    "\n",
    "df_y2 = pd.DataFrame(columns=feature_df2.columns[df2.shape[1]-1:df2.shape[1]],\n",
    "                         data=scaled_targets2,\n",
    "                         index=feature_df2.index)"
   ]
  },
  {
   "cell_type": "code",
   "execution_count": 52,
   "id": "89b069da",
   "metadata": {},
   "outputs": [
    {
     "data": {
      "text/html": [
       "<div>\n",
       "<style scoped>\n",
       "    .dataframe tbody tr th:only-of-type {\n",
       "        vertical-align: middle;\n",
       "    }\n",
       "\n",
       "    .dataframe tbody tr th {\n",
       "        vertical-align: top;\n",
       "    }\n",
       "\n",
       "    .dataframe thead th {\n",
       "        text-align: right;\n",
       "    }\n",
       "</style>\n",
       "<table border=\"1\" class=\"dataframe\">\n",
       "  <thead>\n",
       "    <tr style=\"text-align: right;\">\n",
       "      <th></th>\n",
       "      <th>open</th>\n",
       "      <th>BB_Upper</th>\n",
       "      <th>BB_Mid</th>\n",
       "      <th>BB_Low</th>\n",
       "    </tr>\n",
       "    <tr>\n",
       "      <th>date</th>\n",
       "      <th></th>\n",
       "      <th></th>\n",
       "      <th></th>\n",
       "      <th></th>\n",
       "    </tr>\n",
       "  </thead>\n",
       "  <tbody>\n",
       "    <tr>\n",
       "      <th>2023-01-14</th>\n",
       "      <td>0.000000</td>\n",
       "      <td>0.023341</td>\n",
       "      <td>0.000000</td>\n",
       "      <td>0.042376</td>\n",
       "    </tr>\n",
       "    <tr>\n",
       "      <th>2023-01-15</th>\n",
       "      <td>0.100844</td>\n",
       "      <td>0.004434</td>\n",
       "      <td>0.016890</td>\n",
       "      <td>0.097708</td>\n",
       "    </tr>\n",
       "    <tr>\n",
       "      <th>2023-01-16</th>\n",
       "      <td>0.091840</td>\n",
       "      <td>0.013776</td>\n",
       "      <td>0.033691</td>\n",
       "      <td>0.121095</td>\n",
       "    </tr>\n",
       "    <tr>\n",
       "      <th>2023-01-17</th>\n",
       "      <td>0.119591</td>\n",
       "      <td>0.014507</td>\n",
       "      <td>0.043584</td>\n",
       "      <td>0.140230</td>\n",
       "    </tr>\n",
       "    <tr>\n",
       "      <th>2023-01-18</th>\n",
       "      <td>0.118194</td>\n",
       "      <td>0.001402</td>\n",
       "      <td>0.041062</td>\n",
       "      <td>0.149877</td>\n",
       "    </tr>\n",
       "    <tr>\n",
       "      <th>...</th>\n",
       "      <td>...</td>\n",
       "      <td>...</td>\n",
       "      <td>...</td>\n",
       "      <td>...</td>\n",
       "    </tr>\n",
       "    <tr>\n",
       "      <th>2023-04-19</th>\n",
       "      <td>0.990873</td>\n",
       "      <td>0.980094</td>\n",
       "      <td>1.000000</td>\n",
       "      <td>0.983818</td>\n",
       "    </tr>\n",
       "    <tr>\n",
       "      <th>2023-04-20</th>\n",
       "      <td>0.842435</td>\n",
       "      <td>0.980627</td>\n",
       "      <td>0.998655</td>\n",
       "      <td>0.980506</td>\n",
       "    </tr>\n",
       "    <tr>\n",
       "      <th>2023-04-21</th>\n",
       "      <td>0.788140</td>\n",
       "      <td>0.988469</td>\n",
       "      <td>0.992093</td>\n",
       "      <td>0.958450</td>\n",
       "    </tr>\n",
       "    <tr>\n",
       "      <th>2023-04-22</th>\n",
       "      <td>0.695980</td>\n",
       "      <td>0.994106</td>\n",
       "      <td>0.987111</td>\n",
       "      <td>0.942062</td>\n",
       "    </tr>\n",
       "    <tr>\n",
       "      <th>2023-04-23</th>\n",
       "      <td>0.746085</td>\n",
       "      <td>1.000000</td>\n",
       "      <td>0.994315</td>\n",
       "      <td>0.949967</td>\n",
       "    </tr>\n",
       "  </tbody>\n",
       "</table>\n",
       "<p>100 rows × 4 columns</p>\n",
       "</div>"
      ],
      "text/plain": [
       "                open  BB_Upper    BB_Mid    BB_Low\n",
       "date                                              \n",
       "2023-01-14  0.000000  0.023341  0.000000  0.042376\n",
       "2023-01-15  0.100844  0.004434  0.016890  0.097708\n",
       "2023-01-16  0.091840  0.013776  0.033691  0.121095\n",
       "2023-01-17  0.119591  0.014507  0.043584  0.140230\n",
       "2023-01-18  0.118194  0.001402  0.041062  0.149877\n",
       "...              ...       ...       ...       ...\n",
       "2023-04-19  0.990873  0.980094  1.000000  0.983818\n",
       "2023-04-20  0.842435  0.980627  0.998655  0.980506\n",
       "2023-04-21  0.788140  0.988469  0.992093  0.958450\n",
       "2023-04-22  0.695980  0.994106  0.987111  0.942062\n",
       "2023-04-23  0.746085  1.000000  0.994315  0.949967\n",
       "\n",
       "[100 rows x 4 columns]"
      ]
     },
     "execution_count": 52,
     "metadata": {},
     "output_type": "execute_result"
    }
   ],
   "source": [
    "df_ft2"
   ]
  },
  {
   "cell_type": "code",
   "execution_count": 53,
   "id": "2b324fed",
   "metadata": {},
   "outputs": [],
   "source": [
    "X2 = lstm_split2(df_ft2.values, n_steps)"
   ]
  },
  {
   "cell_type": "code",
   "execution_count": 54,
   "id": "dff071cf",
   "metadata": {},
   "outputs": [
    {
     "data": {
      "text/plain": [
       "(1, 100, 4)"
      ]
     },
     "execution_count": 54,
     "metadata": {},
     "output_type": "execute_result"
    }
   ],
   "source": [
    "X2.shape"
   ]
  },
  {
   "cell_type": "code",
   "execution_count": 55,
   "id": "1785c676",
   "metadata": {},
   "outputs": [
    {
     "name": "stdout",
     "output_type": "stream",
     "text": [
      "1/1 [==============================] - 0s 114ms/step\n"
     ]
    }
   ],
   "source": [
    "y_today = model.predict(X2)"
   ]
  },
  {
   "cell_type": "code",
   "execution_count": 56,
   "id": "f2ba29c9",
   "metadata": {},
   "outputs": [
    {
     "data": {
      "text/plain": [
       "(1, 1)"
      ]
     },
     "execution_count": 56,
     "metadata": {},
     "output_type": "execute_result"
    }
   ],
   "source": [
    "y_today.shape"
   ]
  },
  {
   "cell_type": "code",
   "execution_count": 57,
   "id": "a5987632",
   "metadata": {},
   "outputs": [],
   "source": [
    "y_today_original = scaler.inverse_transform(y_today)"
   ]
  },
  {
   "cell_type": "code",
   "execution_count": 58,
   "id": "b324d1d8",
   "metadata": {},
   "outputs": [
    {
     "data": {
      "text/plain": [
       "array([[22505.938]], dtype=float32)"
      ]
     },
     "execution_count": 58,
     "metadata": {},
     "output_type": "execute_result"
    }
   ],
   "source": [
    "y_today_original"
   ]
  },
  {
   "cell_type": "code",
   "execution_count": 59,
   "id": "56c61d45",
   "metadata": {},
   "outputs": [],
   "source": [
    "Today = y_today_original.astype(np.float32)"
   ]
  },
  {
   "cell_type": "markdown",
   "id": "c9366add",
   "metadata": {},
   "source": [
    "## Fee calculating\n",
    "based on biance trading fees(0.1%)"
   ]
  },
  {
   "cell_type": "code",
   "execution_count": 60,
   "id": "32886b34",
   "metadata": {},
   "outputs": [
    {
     "name": "stdout",
     "output_type": "stream",
     "text": [
      "stay\n"
     ]
    }
   ],
   "source": [
    "buying_fee = Open * 0.001\n",
    "selling_fee = Today * 0.001\n",
    "fees = buying_fee + selling_fee\n",
    "if (Open > Today + fees):\n",
    "    print(\"stay\")\n",
    "elif (Open > Today + fees):\n",
    "    print(\"You can earn money today: \", ((Today + fees)-Open)/Open*100, \"%\")"
   ]
  },
  {
   "cell_type": "code",
   "execution_count": null,
   "id": "f15ee2b8",
   "metadata": {},
   "outputs": [],
   "source": []
  }
 ],
 "metadata": {
  "kernelspec": {
   "display_name": "Python 3 (ipykernel)",
   "language": "python",
   "name": "python3"
  },
  "language_info": {
   "codemirror_mode": {
    "name": "ipython",
    "version": 3
   },
   "file_extension": ".py",
   "mimetype": "text/x-python",
   "name": "python",
   "nbconvert_exporter": "python",
   "pygments_lexer": "ipython3",
   "version": "3.8.16"
  }
 },
 "nbformat": 4,
 "nbformat_minor": 5
}
