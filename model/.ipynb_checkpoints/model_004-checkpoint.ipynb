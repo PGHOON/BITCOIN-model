{
 "cells": [
  {
   "cell_type": "code",
   "execution_count": 12,
   "id": "7a68668c",
   "metadata": {},
   "outputs": [],
   "source": [
    "import numpy as np\n",
    "import pandas as pd\n",
    "import matplotlib.pyplot as plt\n",
    "from sklearn.model_selection import train_test_split\n",
    "from sklearn.preprocessing import MinMaxScaler, StandardScaler\n",
    "from keras.models import Sequential\n",
    "from tensorflow.keras.optimizers import Adam\n",
    "from keras.layers import LSTM, Dense, Dropout\n",
    "from tensorflow.keras.callbacks import LearningRateScheduler\n",
    "import math"
   ]
  },
  {
   "cell_type": "markdown",
   "id": "4f52fe37",
   "metadata": {},
   "source": [
    "## Load Dataset"
   ]
  },
  {
   "cell_type": "code",
   "execution_count": 7,
   "id": "f5828969",
   "metadata": {},
   "outputs": [
    {
     "data": {
      "text/html": [
       "<div>\n",
       "<style scoped>\n",
       "    .dataframe tbody tr th:only-of-type {\n",
       "        vertical-align: middle;\n",
       "    }\n",
       "\n",
       "    .dataframe tbody tr th {\n",
       "        vertical-align: top;\n",
       "    }\n",
       "\n",
       "    .dataframe thead th {\n",
       "        text-align: right;\n",
       "    }\n",
       "</style>\n",
       "<table border=\"1\" class=\"dataframe\">\n",
       "  <thead>\n",
       "    <tr style=\"text-align: right;\">\n",
       "      <th></th>\n",
       "      <th>timestamp</th>\n",
       "      <th>-1min</th>\n",
       "      <th>MA7</th>\n",
       "      <th>MA25</th>\n",
       "      <th>MA50</th>\n",
       "      <th>price</th>\n",
       "    </tr>\n",
       "  </thead>\n",
       "  <tbody>\n",
       "    <tr>\n",
       "      <th>0</th>\n",
       "      <td>2023-04-12 17:05:00</td>\n",
       "      <td>NaN</td>\n",
       "      <td>NaN</td>\n",
       "      <td>NaN</td>\n",
       "      <td>NaN</td>\n",
       "      <td>29984.59</td>\n",
       "    </tr>\n",
       "    <tr>\n",
       "      <th>1</th>\n",
       "      <td>2023-04-12 17:06:00</td>\n",
       "      <td>29984.59</td>\n",
       "      <td>NaN</td>\n",
       "      <td>NaN</td>\n",
       "      <td>NaN</td>\n",
       "      <td>29987.64</td>\n",
       "    </tr>\n",
       "    <tr>\n",
       "      <th>2</th>\n",
       "      <td>2023-04-12 17:07:00</td>\n",
       "      <td>29987.64</td>\n",
       "      <td>NaN</td>\n",
       "      <td>NaN</td>\n",
       "      <td>NaN</td>\n",
       "      <td>30009.21</td>\n",
       "    </tr>\n",
       "    <tr>\n",
       "      <th>3</th>\n",
       "      <td>2023-04-12 17:08:00</td>\n",
       "      <td>30009.21</td>\n",
       "      <td>NaN</td>\n",
       "      <td>NaN</td>\n",
       "      <td>NaN</td>\n",
       "      <td>30028.80</td>\n",
       "    </tr>\n",
       "    <tr>\n",
       "      <th>4</th>\n",
       "      <td>2023-04-12 17:09:00</td>\n",
       "      <td>30028.80</td>\n",
       "      <td>NaN</td>\n",
       "      <td>NaN</td>\n",
       "      <td>NaN</td>\n",
       "      <td>30000.72</td>\n",
       "    </tr>\n",
       "    <tr>\n",
       "      <th>...</th>\n",
       "      <td>...</td>\n",
       "      <td>...</td>\n",
       "      <td>...</td>\n",
       "      <td>...</td>\n",
       "      <td>...</td>\n",
       "      <td>...</td>\n",
       "    </tr>\n",
       "    <tr>\n",
       "      <th>1996</th>\n",
       "      <td>2023-04-14 02:21:00</td>\n",
       "      <td>30787.58</td>\n",
       "      <td>30808.191429</td>\n",
       "      <td>30794.2388</td>\n",
       "      <td>30805.0860</td>\n",
       "      <td>30783.25</td>\n",
       "    </tr>\n",
       "    <tr>\n",
       "      <th>1997</th>\n",
       "      <td>2023-04-14 02:22:00</td>\n",
       "      <td>30783.25</td>\n",
       "      <td>30800.990000</td>\n",
       "      <td>30792.9664</td>\n",
       "      <td>30803.6900</td>\n",
       "      <td>30776.92</td>\n",
       "    </tr>\n",
       "    <tr>\n",
       "      <th>1998</th>\n",
       "      <td>2023-04-14 02:23:00</td>\n",
       "      <td>30776.92</td>\n",
       "      <td>30794.777143</td>\n",
       "      <td>30791.2240</td>\n",
       "      <td>30802.5780</td>\n",
       "      <td>30774.77</td>\n",
       "    </tr>\n",
       "    <tr>\n",
       "      <th>1999</th>\n",
       "      <td>2023-04-14 02:24:00</td>\n",
       "      <td>30774.77</td>\n",
       "      <td>30790.085714</td>\n",
       "      <td>30790.4420</td>\n",
       "      <td>30801.5878</td>\n",
       "      <td>30765.26</td>\n",
       "    </tr>\n",
       "    <tr>\n",
       "      <th>2000</th>\n",
       "      <td>2023-04-14 02:25:00</td>\n",
       "      <td>30765.26</td>\n",
       "      <td>30783.790000</td>\n",
       "      <td>30788.9824</td>\n",
       "      <td>30800.7964</td>\n",
       "      <td>30765.63</td>\n",
       "    </tr>\n",
       "  </tbody>\n",
       "</table>\n",
       "<p>2001 rows × 6 columns</p>\n",
       "</div>"
      ],
      "text/plain": [
       "               timestamp     -1min           MA7        MA25        MA50  \\\n",
       "0    2023-04-12 17:05:00       NaN           NaN         NaN         NaN   \n",
       "1    2023-04-12 17:06:00  29984.59           NaN         NaN         NaN   \n",
       "2    2023-04-12 17:07:00  29987.64           NaN         NaN         NaN   \n",
       "3    2023-04-12 17:08:00  30009.21           NaN         NaN         NaN   \n",
       "4    2023-04-12 17:09:00  30028.80           NaN         NaN         NaN   \n",
       "...                  ...       ...           ...         ...         ...   \n",
       "1996 2023-04-14 02:21:00  30787.58  30808.191429  30794.2388  30805.0860   \n",
       "1997 2023-04-14 02:22:00  30783.25  30800.990000  30792.9664  30803.6900   \n",
       "1998 2023-04-14 02:23:00  30776.92  30794.777143  30791.2240  30802.5780   \n",
       "1999 2023-04-14 02:24:00  30774.77  30790.085714  30790.4420  30801.5878   \n",
       "2000 2023-04-14 02:25:00  30765.26  30783.790000  30788.9824  30800.7964   \n",
       "\n",
       "         price  \n",
       "0     29984.59  \n",
       "1     29987.64  \n",
       "2     30009.21  \n",
       "3     30028.80  \n",
       "4     30000.72  \n",
       "...        ...  \n",
       "1996  30783.25  \n",
       "1997  30776.92  \n",
       "1998  30774.77  \n",
       "1999  30765.26  \n",
       "2000  30765.63  \n",
       "\n",
       "[2001 rows x 6 columns]"
      ]
     },
     "execution_count": 7,
     "metadata": {},
     "output_type": "execute_result"
    }
   ],
   "source": [
    "df = pd.read_csv(\"../DataSets/bitcoin_prices3.csv\")\n",
    "df['timestamp'] = pd.to_datetime(df['timestamp'], unit='s')\n",
    "df_chart = df.copy()\n",
    "df"
   ]
  },
  {
   "cell_type": "markdown",
   "id": "06718b41",
   "metadata": {},
   "source": [
    "## Dataset Summary"
   ]
  },
  {
   "cell_type": "code",
   "execution_count": 3,
   "id": "d3eb1ae0",
   "metadata": {},
   "outputs": [
    {
     "data": {
      "image/png": "[encoded data removed]",
      "text/plain": [
       "<Figure size 1500x500 with 1 Axes>"
      ]
     },
     "metadata": {},
     "output_type": "display_data"
    }
   ],
   "source": [
    "df_chart['timestamp'] = pd.to_datetime(df_chart['timestamp'])\n",
    "df_chart.set_index('timestamp', inplace=True)\n",
    "\n",
    "plt.figure(figsize=(15,5))\n",
    "plt.plot(df_chart.index, df_chart['price'], color='blue', label='Price')\n",
    "plt.plot(df_chart.index, df_chart['MA7'], color='red', label='MA7')\n",
    "plt.plot(df_chart.index, df_chart['MA25'], color='green', label='MA25')\n",
    "plt.plot(df_chart.index, df_chart['MA50'], color='yellow', label='MA50')\n",
    "plt.title('1-Minute Historical Data of Bitcoin Price', fontsize=15)\n",
    "plt.ylabel('Bitcoin Price')\n",
    "plt.xlabel('Time')\n",
    "plt.legend()\n",
    "\n",
    "tick_values = pd.date_range(start=df_chart.index[0], end=df_chart.index[-1], freq='30T')\n",
    "tick_labels = [date.strftime('%Y-%m-%d %H:%M') for date in tick_values]\n",
    "plt.xticks(tick_values, tick_labels, rotation=45)\n",
    "\n",
    "plt.show()"
   ]
  },
  {
   "cell_type": "code",
   "execution_count": 8,
   "id": "5253fde9",
   "metadata": {},
   "outputs": [],
   "source": [
    "#drop NAN rows\n",
    "df = df.drop(df.index[:50])\n",
    "\n",
    "target_y = df['price']\n",
    "feature_x = df.iloc[:,1:5]"
   ]
  },
  {
   "cell_type": "code",
   "execution_count": 9,
   "id": "35454637",
   "metadata": {},
   "outputs": [
    {
     "data": {
      "text/plain": [
       "50      30059.15\n",
       "51      30053.22\n",
       "52      30058.14\n",
       "53      30063.53\n",
       "54      30050.95\n",
       "          ...   \n",
       "1996    30783.25\n",
       "1997    30776.92\n",
       "1998    30774.77\n",
       "1999    30765.26\n",
       "2000    30765.63\n",
       "Name: price, Length: 1951, dtype: float64"
      ]
     },
     "execution_count": 9,
     "metadata": {},
     "output_type": "execute_result"
    }
   ],
   "source": [
    "target_y"
   ]
  },
  {
   "cell_type": "code",
   "execution_count": 10,
   "id": "48f959f1",
   "metadata": {},
   "outputs": [
    {
     "data": {
      "text/html": [
       "<div>\n",
       "<style scoped>\n",
       "    .dataframe tbody tr th:only-of-type {\n",
       "        vertical-align: middle;\n",
       "    }\n",
       "\n",
       "    .dataframe tbody tr th {\n",
       "        vertical-align: top;\n",
       "    }\n",
       "\n",
       "    .dataframe thead th {\n",
       "        text-align: right;\n",
       "    }\n",
       "</style>\n",
       "<table border=\"1\" class=\"dataframe\">\n",
       "  <thead>\n",
       "    <tr style=\"text-align: right;\">\n",
       "      <th></th>\n",
       "      <th>-1min</th>\n",
       "      <th>MA7</th>\n",
       "      <th>MA25</th>\n",
       "      <th>MA50</th>\n",
       "    </tr>\n",
       "  </thead>\n",
       "  <tbody>\n",
       "    <tr>\n",
       "      <th>50</th>\n",
       "      <td>30051.36</td>\n",
       "      <td>30053.120000</td>\n",
       "      <td>30055.5112</td>\n",
       "      <td>30036.3942</td>\n",
       "    </tr>\n",
       "    <tr>\n",
       "      <th>51</th>\n",
       "      <td>30059.15</td>\n",
       "      <td>30053.554286</td>\n",
       "      <td>30056.2904</td>\n",
       "      <td>30037.8854</td>\n",
       "    </tr>\n",
       "    <tr>\n",
       "      <th>52</th>\n",
       "      <td>30053.22</td>\n",
       "      <td>30053.992857</td>\n",
       "      <td>30056.9432</td>\n",
       "      <td>30039.1970</td>\n",
       "    </tr>\n",
       "    <tr>\n",
       "      <th>53</th>\n",
       "      <td>30058.14</td>\n",
       "      <td>30055.067143</td>\n",
       "      <td>30057.3796</td>\n",
       "      <td>30040.1756</td>\n",
       "    </tr>\n",
       "    <tr>\n",
       "      <th>54</th>\n",
       "      <td>30063.53</td>\n",
       "      <td>30056.302857</td>\n",
       "      <td>30056.2788</td>\n",
       "      <td>30040.8702</td>\n",
       "    </tr>\n",
       "    <tr>\n",
       "      <th>...</th>\n",
       "      <td>...</td>\n",
       "      <td>...</td>\n",
       "      <td>...</td>\n",
       "      <td>...</td>\n",
       "    </tr>\n",
       "    <tr>\n",
       "      <th>1996</th>\n",
       "      <td>30787.58</td>\n",
       "      <td>30808.191429</td>\n",
       "      <td>30794.2388</td>\n",
       "      <td>30805.0860</td>\n",
       "    </tr>\n",
       "    <tr>\n",
       "      <th>1997</th>\n",
       "      <td>30783.25</td>\n",
       "      <td>30800.990000</td>\n",
       "      <td>30792.9664</td>\n",
       "      <td>30803.6900</td>\n",
       "    </tr>\n",
       "    <tr>\n",
       "      <th>1998</th>\n",
       "      <td>30776.92</td>\n",
       "      <td>30794.777143</td>\n",
       "      <td>30791.2240</td>\n",
       "      <td>30802.5780</td>\n",
       "    </tr>\n",
       "    <tr>\n",
       "      <th>1999</th>\n",
       "      <td>30774.77</td>\n",
       "      <td>30790.085714</td>\n",
       "      <td>30790.4420</td>\n",
       "      <td>30801.5878</td>\n",
       "    </tr>\n",
       "    <tr>\n",
       "      <th>2000</th>\n",
       "      <td>30765.26</td>\n",
       "      <td>30783.790000</td>\n",
       "      <td>30788.9824</td>\n",
       "      <td>30800.7964</td>\n",
       "    </tr>\n",
       "  </tbody>\n",
       "</table>\n",
       "<p>1951 rows × 4 columns</p>\n",
       "</div>"
      ],
      "text/plain": [
       "         -1min           MA7        MA25        MA50\n",
       "50    30051.36  30053.120000  30055.5112  30036.3942\n",
       "51    30059.15  30053.554286  30056.2904  30037.8854\n",
       "52    30053.22  30053.992857  30056.9432  30039.1970\n",
       "53    30058.14  30055.067143  30057.3796  30040.1756\n",
       "54    30063.53  30056.302857  30056.2788  30040.8702\n",
       "...        ...           ...         ...         ...\n",
       "1996  30787.58  30808.191429  30794.2388  30805.0860\n",
       "1997  30783.25  30800.990000  30792.9664  30803.6900\n",
       "1998  30776.92  30794.777143  30791.2240  30802.5780\n",
       "1999  30774.77  30790.085714  30790.4420  30801.5878\n",
       "2000  30765.26  30783.790000  30788.9824  30800.7964\n",
       "\n",
       "[1951 rows x 4 columns]"
      ]
     },
     "execution_count": 10,
     "metadata": {},
     "output_type": "execute_result"
    }
   ],
   "source": [
    "feature_x"
   ]
  },
  {
   "cell_type": "code",
   "execution_count": 14,
   "id": "b38e9569",
   "metadata": {},
   "outputs": [],
   "source": [
    "#Feature Scaling\n",
    "scalar = StandardScaler()\n",
    "X_ft = scalar.fit_transform(feature_x.values)\n",
    "X_ft = pd.DataFrame(columns=feature_x. columns,\n",
    "                    data=X_ft,\n",
    "                    index=feature_x.index)"
   ]
  },
  {
   "cell_type": "code",
   "execution_count": 15,
   "id": "3a978037",
   "metadata": {},
   "outputs": [
    {
     "data": {
      "text/html": [
       "<div>\n",
       "<style scoped>\n",
       "    .dataframe tbody tr th:only-of-type {\n",
       "        vertical-align: middle;\n",
       "    }\n",
       "\n",
       "    .dataframe tbody tr th {\n",
       "        vertical-align: top;\n",
       "    }\n",
       "\n",
       "    .dataframe thead th {\n",
       "        text-align: right;\n",
       "    }\n",
       "</style>\n",
       "<table border=\"1\" class=\"dataframe\">\n",
       "  <thead>\n",
       "    <tr style=\"text-align: right;\">\n",
       "      <th></th>\n",
       "      <th>-1min</th>\n",
       "      <th>MA7</th>\n",
       "      <th>MA25</th>\n",
       "      <th>MA50</th>\n",
       "    </tr>\n",
       "  </thead>\n",
       "  <tbody>\n",
       "    <tr>\n",
       "      <th>50</th>\n",
       "      <td>-0.727433</td>\n",
       "      <td>-0.719379</td>\n",
       "      <td>-0.707547</td>\n",
       "      <td>-0.796046</td>\n",
       "    </tr>\n",
       "    <tr>\n",
       "      <th>51</th>\n",
       "      <td>-0.692840</td>\n",
       "      <td>-0.717438</td>\n",
       "      <td>-0.703994</td>\n",
       "      <td>-0.789037</td>\n",
       "    </tr>\n",
       "    <tr>\n",
       "      <th>52</th>\n",
       "      <td>-0.719174</td>\n",
       "      <td>-0.715477</td>\n",
       "      <td>-0.701016</td>\n",
       "      <td>-0.782873</td>\n",
       "    </tr>\n",
       "    <tr>\n",
       "      <th>53</th>\n",
       "      <td>-0.697325</td>\n",
       "      <td>-0.710675</td>\n",
       "      <td>-0.699026</td>\n",
       "      <td>-0.778273</td>\n",
       "    </tr>\n",
       "    <tr>\n",
       "      <th>54</th>\n",
       "      <td>-0.673389</td>\n",
       "      <td>-0.705152</td>\n",
       "      <td>-0.704046</td>\n",
       "      <td>-0.775008</td>\n",
       "    </tr>\n",
       "    <tr>\n",
       "      <th>...</th>\n",
       "      <td>...</td>\n",
       "      <td>...</td>\n",
       "      <td>...</td>\n",
       "      <td>...</td>\n",
       "    </tr>\n",
       "    <tr>\n",
       "      <th>1996</th>\n",
       "      <td>2.541976</td>\n",
       "      <td>2.655768</td>\n",
       "      <td>2.661678</td>\n",
       "      <td>2.817004</td>\n",
       "    </tr>\n",
       "    <tr>\n",
       "      <th>1997</th>\n",
       "      <td>2.522747</td>\n",
       "      <td>2.623578</td>\n",
       "      <td>2.655874</td>\n",
       "      <td>2.810442</td>\n",
       "    </tr>\n",
       "    <tr>\n",
       "      <th>1998</th>\n",
       "      <td>2.494637</td>\n",
       "      <td>2.595807</td>\n",
       "      <td>2.647928</td>\n",
       "      <td>2.805216</td>\n",
       "    </tr>\n",
       "    <tr>\n",
       "      <th>1999</th>\n",
       "      <td>2.485089</td>\n",
       "      <td>2.574836</td>\n",
       "      <td>2.644361</td>\n",
       "      <td>2.800561</td>\n",
       "    </tr>\n",
       "    <tr>\n",
       "      <th>2000</th>\n",
       "      <td>2.442857</td>\n",
       "      <td>2.546695</td>\n",
       "      <td>2.637704</td>\n",
       "      <td>2.796842</td>\n",
       "    </tr>\n",
       "  </tbody>\n",
       "</table>\n",
       "<p>1951 rows × 4 columns</p>\n",
       "</div>"
      ],
      "text/plain": [
       "         -1min       MA7      MA25      MA50\n",
       "50   -0.727433 -0.719379 -0.707547 -0.796046\n",
       "51   -0.692840 -0.717438 -0.703994 -0.789037\n",
       "52   -0.719174 -0.715477 -0.701016 -0.782873\n",
       "53   -0.697325 -0.710675 -0.699026 -0.778273\n",
       "54   -0.673389 -0.705152 -0.704046 -0.775008\n",
       "...        ...       ...       ...       ...\n",
       "1996  2.541976  2.655768  2.661678  2.817004\n",
       "1997  2.522747  2.623578  2.655874  2.810442\n",
       "1998  2.494637  2.595807  2.647928  2.805216\n",
       "1999  2.485089  2.574836  2.644361  2.800561\n",
       "2000  2.442857  2.546695  2.637704  2.796842\n",
       "\n",
       "[1951 rows x 4 columns]"
      ]
     },
     "execution_count": 15,
     "metadata": {},
     "output_type": "execute_result"
    }
   ],
   "source": [
    "X_ft"
   ]
  },
  {
   "cell_type": "code",
   "execution_count": 16,
   "id": "725b412e",
   "metadata": {},
   "outputs": [],
   "source": [
    "def lstm_split(data, n_steps):\n",
    "    X, y = [], []\n",
    "    for i in range(len(data) - n_steps + 1):\n",
    "        X.append (data[i:i + n_steps, : - 1])\n",
    "        y.append(data[i + n_steps - 1, - 1])\n",
    "    return np.array(X), np.array(y)"
   ]
  },
  {
   "cell_type": "code",
   "execution_count": 19,
   "id": "3e1f4ef9",
   "metadata": {},
   "outputs": [],
   "source": [
    "X1, y1 = lstm_split(X_ft.values, n_steps=50)"
   ]
  },
  {
   "cell_type": "code",
   "execution_count": 24,
   "id": "dc42b03f",
   "metadata": {},
   "outputs": [],
   "source": [
    "X_train, X_test, y_train, y_test = train_test_split(X1, y1, test_size=0.3, random_state=42)"
   ]
  },
  {
   "cell_type": "code",
   "execution_count": 26,
   "id": "ff826924",
   "metadata": {},
   "outputs": [
    {
     "data": {
      "text/plain": [
       "(1331,)"
      ]
     },
     "execution_count": 26,
     "metadata": {},
     "output_type": "execute_result"
    }
   ],
   "source": [
    "y_train.shape"
   ]
  },
  {
   "cell_type": "markdown",
   "id": "78ca4701",
   "metadata": {},
   "source": [
    "## Sequential model"
   ]
  },
  {
   "cell_type": "code",
   "execution_count": null,
   "id": "698c47c9",
   "metadata": {},
   "outputs": [],
   "source": [
    "model = Sequential ()\n",
    "model. add(LSTM(units = 50, return_sequences= True, input_shape = (X_train.shape[1], X_train.shape[2])))\n",
    "model. add (Dropout (0.2))\n",
    "model. add (LSTM(units = 50, return_sequences= True))\n",
    "model. add (Dropout (0.2))\n",
    "model. add(LSTM(units = 50, return_sequences= True))\n",
    "model. add(Dropout (0.2))\n",
    "model.add(LSTM(units = 50))\n",
    "model.add(Dropout (0.2))\n",
    "model.add(Dense (units=1))\n",
    "\n",
    "def scheduler(epoch, lr):\n",
    "    if epoch < 50:\n",
    "        return lr\n",
    "    else:\n",
    "        return lr * math.exp(-0.1)\n",
    "\n",
    "lr_scheduler = LearningRateScheduler(scheduler)\n",
    "\n",
    "opt = Adam(learning_rate=0.01)\n",
    "model.compile(optimizer=opt, loss='mean_squared_error', metrics=['accuracy'])"
   ]
  },
  {
   "cell_type": "markdown",
   "id": "aad6ecb8",
   "metadata": {},
   "source": [
    "## Summary"
   ]
  },
  {
   "cell_type": "code",
   "execution_count": null,
   "id": "a529a4c9",
   "metadata": {},
   "outputs": [],
   "source": [
    "model.summary()"
   ]
  },
  {
   "cell_type": "markdown",
   "id": "9a4025ff",
   "metadata": {},
   "source": [
    "## Train"
   ]
  },
  {
   "cell_type": "code",
   "execution_count": null,
   "id": "7a4b366b",
   "metadata": {},
   "outputs": [],
   "source": [
    "model.fit(X_train, y_train, epochs=50, batch_size=32, validation_data=(X_test, y_test), callbacks=[lr_scheduler], verbose=1)"
   ]
  },
  {
   "cell_type": "code",
   "execution_count": null,
   "id": "4f82f1aa",
   "metadata": {},
   "outputs": [],
   "source": [
    "# model.save('model_002.h5')\n",
    "# loaded_model = keras.models.load_model('model_002.h5')"
   ]
  },
  {
   "cell_type": "markdown",
   "id": "98f99798",
   "metadata": {},
   "source": [
    "## Evaluate"
   ]
  },
  {
   "cell_type": "code",
   "execution_count": null,
   "id": "a0c0c2fc",
   "metadata": {},
   "outputs": [],
   "source": [
    "y_pred = model.predict(X_test)"
   ]
  },
  {
   "cell_type": "code",
   "execution_count": null,
   "id": "48cafd60",
   "metadata": {},
   "outputs": [],
   "source": [
    "error_rates = (y_test.values.reshape(-1, 1) - y_pred) / y_test.values.reshape(-1, 1) * 100\n",
    "average_error_rate = np.sum(error_rates)/len(error_rates)\n",
    "plt.plot(error_rates)\n",
    "plt.text(120,-55, average_error_rate, fontsize = 22, bbox = dict(facecolor = 'red', alpha = 0.3))\n",
    "plt.title('Error Rate')\n",
    "plt.xlabel('Time')\n",
    "plt.ylabel('Error')\n",
    "plt.show()"
   ]
  },
  {
   "cell_type": "code",
   "execution_count": null,
   "id": "4bf5cfbf",
   "metadata": {},
   "outputs": [],
   "source": [
    "error_rates = (y_test.reshape(-1, 1) - y_pred) / y_test.reshape(-1, 1) * 100\n",
    "average_error_rate = np.sum(error_rates)/len(error_rates)\n",
    "plt.plot(error_rates)\n",
    "plt.text(120,-55, average_error_rate, fontsize = 22, bbox = dict(facecolor = 'red', alpha = 0.3))\n",
    "plt.title('Error Rate')\n",
    "plt.xlabel('Time')\n",
    "plt.ylabel('Error')\n",
    "plt.show()"
   ]
  },
  {
   "cell_type": "code",
   "execution_count": null,
   "id": "38458b3b",
   "metadata": {},
   "outputs": [],
   "source": [
    "plt.scatter(y_test.index, y_test, color='red', label='Real Price', s=3)\n",
    "plt.scatter(y_test.index, y_pred, color='blue', label='Predicted Price', s=3)\n",
    "plt.title('Bitcoin Price Prediction')\n",
    "plt.xlabel('Time')\n",
    "plt.ylabel('Price')\n",
    "plt.legend()\n",
    "plt.show()"
   ]
  },
  {
   "cell_type": "code",
   "execution_count": null,
   "id": "1d484f11",
   "metadata": {},
   "outputs": [],
   "source": [
    "# Define y_test_index with row labels\n",
    "y_test_index = range(len(y_test))\n",
    "\n",
    "# Convert numpy arrays to pandas series\n",
    "y_test_series = pd.Series(y_test.reshape(-1,), index=y_test_index)\n",
    "y_pred_series = pd.Series(y_pred.reshape(-1,), index=y_test_index)\n",
    "\n",
    "# Plot scatter plot\n",
    "plt.scatter(y_test_series.index, y_test_series, color='red', label='Real Price', s=3)\n",
    "plt.scatter(y_pred_series.index, y_pred_series, color='blue', label='Predicted Price', s=3)\n",
    "plt.title('Bitcoin Price Prediction')\n",
    "plt.xlabel('Time')\n",
    "plt.ylabel('Price')\n",
    "plt.legend()\n",
    "plt.show()\n"
   ]
  },
  {
   "cell_type": "code",
   "execution_count": null,
   "id": "7c37045b",
   "metadata": {},
   "outputs": [],
   "source": []
  },
  {
   "cell_type": "code",
   "execution_count": null,
   "id": "f0163e84",
   "metadata": {},
   "outputs": [],
   "source": []
  }
 ],
 "metadata": {
  "kernelspec": {
   "display_name": "Python 3 (ipykernel)",
   "language": "python",
   "name": "python3"
  },
  "language_info": {
   "codemirror_mode": {
    "name": "ipython",
    "version": 3
   },
   "file_extension": ".py",
   "mimetype": "text/x-python",
   "name": "python",
   "nbconvert_exporter": "python",
   "pygments_lexer": "ipython3",
   "version": "3.8.16"
  }
 },
 "nbformat": 4,
 "nbformat_minor": 5
}
