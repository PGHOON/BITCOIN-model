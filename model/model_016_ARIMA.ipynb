{
 "cells": [
  {
   "cell_type": "code",
   "execution_count": 1,
   "id": "82386418",
   "metadata": {},
   "outputs": [],
   "source": [
    "import pandas as pd\n",
    "import numpy as np\n",
    "import matplotlib.pyplot as plt\n",
    "import datetime\n",
    "import matplotlib.ticker as ticker\n",
    "\n",
    "from statsmodels.tsa.stattools import adfuller\n",
    "from sklearn.model_selection import train_test_split\n",
    "from sklearn.metrics import mean_absolute_error\n",
    "from sklearn.metrics import mean_squared_error, r2_score\n",
    "from statsmodels.tsa.stattools import kpss\n",
    "from statsmodels.tsa.arima.model import ARIMA\n",
    "import statsmodels.api as sm\n",
    "import pmdarima as pm"
   ]
  },
  {
   "cell_type": "code",
   "execution_count": 2,
   "id": "e0df2287",
   "metadata": {},
   "outputs": [
    {
     "data": {
      "text/html": [
       "<div>\n",
       "<style scoped>\n",
       "    .dataframe tbody tr th:only-of-type {\n",
       "        vertical-align: middle;\n",
       "    }\n",
       "\n",
       "    .dataframe tbody tr th {\n",
       "        vertical-align: top;\n",
       "    }\n",
       "\n",
       "    .dataframe thead th {\n",
       "        text-align: right;\n",
       "    }\n",
       "</style>\n",
       "<table border=\"1\" class=\"dataframe\">\n",
       "  <thead>\n",
       "    <tr style=\"text-align: right;\">\n",
       "      <th></th>\n",
       "      <th>date</th>\n",
       "      <th>open</th>\n",
       "      <th>high</th>\n",
       "      <th>low</th>\n",
       "      <th>close</th>\n",
       "      <th>volume</th>\n",
       "      <th>RSI</th>\n",
       "      <th>RS</th>\n",
       "      <th>MACD</th>\n",
       "      <th>MACD_signal</th>\n",
       "      <th>MACD_histogram</th>\n",
       "      <th>BB_Upper</th>\n",
       "      <th>BB_Mid</th>\n",
       "      <th>BB_Low</th>\n",
       "    </tr>\n",
       "  </thead>\n",
       "  <tbody>\n",
       "    <tr>\n",
       "      <th>0</th>\n",
       "      <td>2018-04-25</td>\n",
       "      <td>9701.030273</td>\n",
       "      <td>9745.320313</td>\n",
       "      <td>8799.839844</td>\n",
       "      <td>8845.740234</td>\n",
       "      <td>11083100160</td>\n",
       "      <td>0.000000</td>\n",
       "      <td>0.000000</td>\n",
       "      <td>-19.109995</td>\n",
       "      <td>-10.616664</td>\n",
       "      <td>-8.493331</td>\n",
       "      <td>10476.190330</td>\n",
       "      <td>9271.620117</td>\n",
       "      <td>8067.049904</td>\n",
       "    </tr>\n",
       "    <tr>\n",
       "      <th>1</th>\n",
       "      <td>2018-04-26</td>\n",
       "      <td>8867.320313</td>\n",
       "      <td>9281.509766</td>\n",
       "      <td>8727.089844</td>\n",
       "      <td>9281.509766</td>\n",
       "      <td>8970559488</td>\n",
       "      <td>38.039560</td>\n",
       "      <td>0.613933</td>\n",
       "      <td>-10.836739</td>\n",
       "      <td>-10.706859</td>\n",
       "      <td>-0.129881</td>\n",
       "      <td>10126.752981</td>\n",
       "      <td>9274.916667</td>\n",
       "      <td>8423.080353</td>\n",
       "    </tr>\n",
       "    <tr>\n",
       "      <th>2</th>\n",
       "      <td>2018-04-27</td>\n",
       "      <td>9290.629883</td>\n",
       "      <td>9375.469727</td>\n",
       "      <td>8987.049805</td>\n",
       "      <td>8987.049805</td>\n",
       "      <td>7566289920</td>\n",
       "      <td>29.072209</td>\n",
       "      <td>0.409885</td>\n",
       "      <td>-17.439684</td>\n",
       "      <td>-12.987626</td>\n",
       "      <td>-4.452058</td>\n",
       "      <td>9955.689880</td>\n",
       "      <td>9202.949951</td>\n",
       "      <td>8450.210022</td>\n",
       "    </tr>\n",
       "    <tr>\n",
       "      <th>3</th>\n",
       "      <td>2018-04-28</td>\n",
       "      <td>8939.269531</td>\n",
       "      <td>9412.089844</td>\n",
       "      <td>8931.990234</td>\n",
       "      <td>9348.480469</td>\n",
       "      <td>7805479936</td>\n",
       "      <td>47.352603</td>\n",
       "      <td>0.899429</td>\n",
       "      <td>-6.278319</td>\n",
       "      <td>-10.991759</td>\n",
       "      <td>4.713440</td>\n",
       "      <td>9896.816429</td>\n",
       "      <td>9232.056055</td>\n",
       "      <td>8567.295680</td>\n",
       "    </tr>\n",
       "    <tr>\n",
       "      <th>4</th>\n",
       "      <td>2018-04-29</td>\n",
       "      <td>9346.410156</td>\n",
       "      <td>9531.490234</td>\n",
       "      <td>9193.709961</td>\n",
       "      <td>9419.080078</td>\n",
       "      <td>8853000192</td>\n",
       "      <td>50.351971</td>\n",
       "      <td>1.014179</td>\n",
       "      <td>3.568068</td>\n",
       "      <td>-7.045236</td>\n",
       "      <td>10.613304</td>\n",
       "      <td>9877.102724</td>\n",
       "      <td>9263.226725</td>\n",
       "      <td>8649.350727</td>\n",
       "    </tr>\n",
       "    <tr>\n",
       "      <th>...</th>\n",
       "      <td>...</td>\n",
       "      <td>...</td>\n",
       "      <td>...</td>\n",
       "      <td>...</td>\n",
       "      <td>...</td>\n",
       "      <td>...</td>\n",
       "      <td>...</td>\n",
       "      <td>...</td>\n",
       "      <td>...</td>\n",
       "      <td>...</td>\n",
       "      <td>...</td>\n",
       "      <td>...</td>\n",
       "      <td>...</td>\n",
       "      <td>...</td>\n",
       "    </tr>\n",
       "    <tr>\n",
       "      <th>1821</th>\n",
       "      <td>2023-04-20</td>\n",
       "      <td>28823.683594</td>\n",
       "      <td>29076.400391</td>\n",
       "      <td>28037.257813</td>\n",
       "      <td>28245.988281</td>\n",
       "      <td>21340360360</td>\n",
       "      <td>32.300373</td>\n",
       "      <td>0.477113</td>\n",
       "      <td>688.721458</td>\n",
       "      <td>927.692397</td>\n",
       "      <td>-238.970939</td>\n",
       "      <td>31173.681929</td>\n",
       "      <td>29072.722949</td>\n",
       "      <td>26971.763970</td>\n",
       "    </tr>\n",
       "    <tr>\n",
       "      <th>1822</th>\n",
       "      <td>2023-04-21</td>\n",
       "      <td>28249.230469</td>\n",
       "      <td>28349.968750</td>\n",
       "      <td>27177.365234</td>\n",
       "      <td>27276.910156</td>\n",
       "      <td>20759504330</td>\n",
       "      <td>24.716457</td>\n",
       "      <td>0.328312</td>\n",
       "      <td>472.983978</td>\n",
       "      <td>836.750713</td>\n",
       "      <td>-363.766735</td>\n",
       "      <td>31249.231841</td>\n",
       "      <td>29016.016699</td>\n",
       "      <td>26782.801557</td>\n",
       "    </tr>\n",
       "    <tr>\n",
       "      <th>1823</th>\n",
       "      <td>2023-04-22</td>\n",
       "      <td>27265.894531</td>\n",
       "      <td>27872.142578</td>\n",
       "      <td>27169.570313</td>\n",
       "      <td>27817.500000</td>\n",
       "      <td>13125734602</td>\n",
       "      <td>34.941810</td>\n",
       "      <td>0.537085</td>\n",
       "      <td>341.692733</td>\n",
       "      <td>737.739117</td>\n",
       "      <td>-396.046384</td>\n",
       "      <td>31265.780752</td>\n",
       "      <td>28996.926270</td>\n",
       "      <td>26728.071787</td>\n",
       "    </tr>\n",
       "    <tr>\n",
       "      <th>1824</th>\n",
       "      <td>2023-04-23</td>\n",
       "      <td>27816.144531</td>\n",
       "      <td>27820.244141</td>\n",
       "      <td>27400.314453</td>\n",
       "      <td>27591.384766</td>\n",
       "      <td>12785446832</td>\n",
       "      <td>32.711708</td>\n",
       "      <td>0.486143</td>\n",
       "      <td>216.897604</td>\n",
       "      <td>633.570814</td>\n",
       "      <td>-416.673210</td>\n",
       "      <td>31279.719450</td>\n",
       "      <td>28986.984473</td>\n",
       "      <td>26694.249496</td>\n",
       "    </tr>\n",
       "    <tr>\n",
       "      <th>1825</th>\n",
       "      <td>2023-04-24</td>\n",
       "      <td>27576.402344</td>\n",
       "      <td>27956.941406</td>\n",
       "      <td>27396.437500</td>\n",
       "      <td>27430.902344</td>\n",
       "      <td>14221151232</td>\n",
       "      <td>31.025258</td>\n",
       "      <td>0.449806</td>\n",
       "      <td>103.849859</td>\n",
       "      <td>527.626623</td>\n",
       "      <td>-423.776764</td>\n",
       "      <td>31320.674262</td>\n",
       "      <td>28950.125098</td>\n",
       "      <td>26579.575934</td>\n",
       "    </tr>\n",
       "  </tbody>\n",
       "</table>\n",
       "<p>1826 rows × 14 columns</p>\n",
       "</div>"
      ],
      "text/plain": [
       "            date          open          high           low         close  \\\n",
       "0     2018-04-25   9701.030273   9745.320313   8799.839844   8845.740234   \n",
       "1     2018-04-26   8867.320313   9281.509766   8727.089844   9281.509766   \n",
       "2     2018-04-27   9290.629883   9375.469727   8987.049805   8987.049805   \n",
       "3     2018-04-28   8939.269531   9412.089844   8931.990234   9348.480469   \n",
       "4     2018-04-29   9346.410156   9531.490234   9193.709961   9419.080078   \n",
       "...          ...           ...           ...           ...           ...   \n",
       "1821  2023-04-20  28823.683594  29076.400391  28037.257813  28245.988281   \n",
       "1822  2023-04-21  28249.230469  28349.968750  27177.365234  27276.910156   \n",
       "1823  2023-04-22  27265.894531  27872.142578  27169.570313  27817.500000   \n",
       "1824  2023-04-23  27816.144531  27820.244141  27400.314453  27591.384766   \n",
       "1825  2023-04-24  27576.402344  27956.941406  27396.437500  27430.902344   \n",
       "\n",
       "           volume        RSI        RS        MACD  MACD_signal  \\\n",
       "0     11083100160   0.000000  0.000000  -19.109995   -10.616664   \n",
       "1      8970559488  38.039560  0.613933  -10.836739   -10.706859   \n",
       "2      7566289920  29.072209  0.409885  -17.439684   -12.987626   \n",
       "3      7805479936  47.352603  0.899429   -6.278319   -10.991759   \n",
       "4      8853000192  50.351971  1.014179    3.568068    -7.045236   \n",
       "...           ...        ...       ...         ...          ...   \n",
       "1821  21340360360  32.300373  0.477113  688.721458   927.692397   \n",
       "1822  20759504330  24.716457  0.328312  472.983978   836.750713   \n",
       "1823  13125734602  34.941810  0.537085  341.692733   737.739117   \n",
       "1824  12785446832  32.711708  0.486143  216.897604   633.570814   \n",
       "1825  14221151232  31.025258  0.449806  103.849859   527.626623   \n",
       "\n",
       "      MACD_histogram      BB_Upper        BB_Mid        BB_Low  \n",
       "0          -8.493331  10476.190330   9271.620117   8067.049904  \n",
       "1          -0.129881  10126.752981   9274.916667   8423.080353  \n",
       "2          -4.452058   9955.689880   9202.949951   8450.210022  \n",
       "3           4.713440   9896.816429   9232.056055   8567.295680  \n",
       "4          10.613304   9877.102724   9263.226725   8649.350727  \n",
       "...              ...           ...           ...           ...  \n",
       "1821     -238.970939  31173.681929  29072.722949  26971.763970  \n",
       "1822     -363.766735  31249.231841  29016.016699  26782.801557  \n",
       "1823     -396.046384  31265.780752  28996.926270  26728.071787  \n",
       "1824     -416.673210  31279.719450  28986.984473  26694.249496  \n",
       "1825     -423.776764  31320.674262  28950.125098  26579.575934  \n",
       "\n",
       "[1826 rows x 14 columns]"
      ]
     },
     "execution_count": 2,
     "metadata": {},
     "output_type": "execute_result"
    }
   ],
   "source": [
    "df = pd.read_csv(\"../DataSets/bitcoin_technical_5Y.csv\")\n",
    "df"
   ]
  },
  {
   "cell_type": "code",
   "execution_count": 3,
   "id": "7bdca449",
   "metadata": {},
   "outputs": [
    {
     "data": {
      "text/html": [
       "<div>\n",
       "<style scoped>\n",
       "    .dataframe tbody tr th:only-of-type {\n",
       "        vertical-align: middle;\n",
       "    }\n",
       "\n",
       "    .dataframe tbody tr th {\n",
       "        vertical-align: top;\n",
       "    }\n",
       "\n",
       "    .dataframe thead th {\n",
       "        text-align: right;\n",
       "    }\n",
       "</style>\n",
       "<table border=\"1\" class=\"dataframe\">\n",
       "  <thead>\n",
       "    <tr style=\"text-align: right;\">\n",
       "      <th></th>\n",
       "      <th>date</th>\n",
       "      <th>close</th>\n",
       "    </tr>\n",
       "  </thead>\n",
       "  <tbody>\n",
       "    <tr>\n",
       "      <th>0</th>\n",
       "      <td>2018-04-25</td>\n",
       "      <td>8845.740234</td>\n",
       "    </tr>\n",
       "    <tr>\n",
       "      <th>1</th>\n",
       "      <td>2018-04-26</td>\n",
       "      <td>9281.509766</td>\n",
       "    </tr>\n",
       "    <tr>\n",
       "      <th>2</th>\n",
       "      <td>2018-04-27</td>\n",
       "      <td>8987.049805</td>\n",
       "    </tr>\n",
       "    <tr>\n",
       "      <th>3</th>\n",
       "      <td>2018-04-28</td>\n",
       "      <td>9348.480469</td>\n",
       "    </tr>\n",
       "    <tr>\n",
       "      <th>4</th>\n",
       "      <td>2018-04-29</td>\n",
       "      <td>9419.080078</td>\n",
       "    </tr>\n",
       "    <tr>\n",
       "      <th>...</th>\n",
       "      <td>...</td>\n",
       "      <td>...</td>\n",
       "    </tr>\n",
       "    <tr>\n",
       "      <th>1821</th>\n",
       "      <td>2023-04-20</td>\n",
       "      <td>28245.988281</td>\n",
       "    </tr>\n",
       "    <tr>\n",
       "      <th>1822</th>\n",
       "      <td>2023-04-21</td>\n",
       "      <td>27276.910156</td>\n",
       "    </tr>\n",
       "    <tr>\n",
       "      <th>1823</th>\n",
       "      <td>2023-04-22</td>\n",
       "      <td>27817.500000</td>\n",
       "    </tr>\n",
       "    <tr>\n",
       "      <th>1824</th>\n",
       "      <td>2023-04-23</td>\n",
       "      <td>27591.384766</td>\n",
       "    </tr>\n",
       "    <tr>\n",
       "      <th>1825</th>\n",
       "      <td>2023-04-24</td>\n",
       "      <td>27430.902344</td>\n",
       "    </tr>\n",
       "  </tbody>\n",
       "</table>\n",
       "<p>1826 rows × 2 columns</p>\n",
       "</div>"
      ],
      "text/plain": [
       "            date         close\n",
       "0     2018-04-25   8845.740234\n",
       "1     2018-04-26   9281.509766\n",
       "2     2018-04-27   8987.049805\n",
       "3     2018-04-28   9348.480469\n",
       "4     2018-04-29   9419.080078\n",
       "...          ...           ...\n",
       "1821  2023-04-20  28245.988281\n",
       "1822  2023-04-21  27276.910156\n",
       "1823  2023-04-22  27817.500000\n",
       "1824  2023-04-23  27591.384766\n",
       "1825  2023-04-24  27430.902344\n",
       "\n",
       "[1826 rows x 2 columns]"
      ]
     },
     "execution_count": 3,
     "metadata": {},
     "output_type": "execute_result"
    }
   ],
   "source": [
    "df = df[df.columns[0:5]]\n",
    "del df['open']\n",
    "del df['high']\n",
    "del df['low']\n",
    "df_origin = df.copy()\n",
    "df_origin"
   ]
  },
  {
   "cell_type": "code",
   "execution_count": 4,
   "id": "87c2609a",
   "metadata": {},
   "outputs": [
    {
     "data": {
      "text/plain": [
       "'2021-10-25'"
      ]
     },
     "execution_count": 4,
     "metadata": {},
     "output_type": "execute_result"
    }
   ],
   "source": [
    "train_origin = df[0:int(1826 * 0.7)]\n",
    "test_origin = df[1278:]\n",
    "test_origin['date'][1279]"
   ]
  },
  {
   "cell_type": "code",
   "execution_count": 5,
   "id": "3c290134",
   "metadata": {},
   "outputs": [
    {
     "data": {
      "text/plain": [
       "'2018-04-27'"
      ]
     },
     "execution_count": 5,
     "metadata": {},
     "output_type": "execute_result"
    }
   ],
   "source": [
    "\n",
    "train_origin['date'][2]"
   ]
  },
  {
   "cell_type": "code",
   "execution_count": 6,
   "id": "9e484ee2",
   "metadata": {},
   "outputs": [
    {
     "data": {
      "text/plain": [
       "0        8845.740234\n",
       "1        9281.509766\n",
       "2        8987.049805\n",
       "3        9348.480469\n",
       "4        9419.080078\n",
       "            ...     \n",
       "1273    64261.992188\n",
       "1274    65992.835938\n",
       "1275    62210.171875\n",
       "1276    60692.265625\n",
       "1277    61393.617188\n",
       "Name: close, Length: 1278, dtype: float64"
      ]
     },
     "execution_count": 6,
     "metadata": {},
     "output_type": "execute_result"
    }
   ],
   "source": [
    "train_data = df['close'][0:int(1826 * 0.7)]\n",
    "train_data"
   ]
  },
  {
   "cell_type": "code",
   "execution_count": 7,
   "id": "0f7b04ac",
   "metadata": {},
   "outputs": [
    {
     "data": {
      "text/plain": [
       "1278    60930.835938\n",
       "1279    63039.824219\n",
       "1280    60363.792969\n",
       "1281    58482.386719\n",
       "1282    60622.136719\n",
       "            ...     \n",
       "1821    28245.988281\n",
       "1822    27276.910156\n",
       "1823    27817.500000\n",
       "1824    27591.384766\n",
       "1825    27430.902344\n",
       "Name: close, Length: 548, dtype: float64"
      ]
     },
     "execution_count": 7,
     "metadata": {},
     "output_type": "execute_result"
    }
   ],
   "source": [
    "test_data = df['close'][1278:]\n",
    "test_data"
   ]
  },
  {
   "cell_type": "markdown",
   "id": "75b982ad",
   "metadata": {},
   "source": [
    "### Test for stationary"
   ]
  },
  {
   "cell_type": "code",
   "execution_count": 8,
   "id": "de1edb7b",
   "metadata": {},
   "outputs": [
    {
     "data": {
      "image/png": "[encoded data removed]",
      "text/plain": [
       "<Figure size 640x480 with 1 Axes>"
      ]
     },
     "metadata": {},
     "output_type": "display_data"
    }
   ],
   "source": [
    "#Visualize data \n",
    "plt.plot(df['date'], df['close'])\n",
    "plt.xlabel('Date')\n",
    "plt.ylabel('Price')\n",
    "plt.title('Bitcoin price : Past 5 years')\n",
    "plt.show()"
   ]
  },
  {
   "cell_type": "code",
   "execution_count": 9,
   "id": "9efcd7a7",
   "metadata": {},
   "outputs": [
    {
     "name": "stderr",
     "output_type": "stream",
     "text": [
      "C:\\Users\\mango\\AppData\\Local\\Temp\\ipykernel_11768\\568213925.py:3: SettingWithCopyWarning: \n",
      "A value is trying to be set on a copy of a slice from a DataFrame.\n",
      "Try using .loc[row_indexer,col_indexer] = value instead\n",
      "\n",
      "See the caveats in the documentation: https://pandas.pydata.org/pandas-docs/stable/user_guide/indexing.html#returning-a-view-versus-a-copy\n",
      "  df['close'] = np.log(df['close'])\n"
     ]
    },
    {
     "data": {
      "text/plain": [
       "0        9.087691\n",
       "1        9.135780\n",
       "2        9.103540\n",
       "3        9.142969\n",
       "4        9.150493\n",
       "          ...    \n",
       "1821    10.248707\n",
       "1822    10.213796\n",
       "1823    10.233421\n",
       "1824    10.225259\n",
       "1825    10.219425\n",
       "Name: close, Length: 1826, dtype: float64"
      ]
     },
     "execution_count": 9,
     "metadata": {},
     "output_type": "execute_result"
    }
   ],
   "source": [
    "##Reduce Variance using log\n",
    "logged_price = np.log(df['close'])\n",
    "df['close'] = np.log(df['close'])\n",
    "logged_price"
   ]
  },
  {
   "cell_type": "code",
   "execution_count": 10,
   "id": "a5b0bf45",
   "metadata": {},
   "outputs": [
    {
     "data": {
      "image/png": "[encoded data removed]",
      "text/plain": [
       "<Figure size 640x480 with 1 Axes>"
      ]
     },
     "metadata": {},
     "output_type": "display_data"
    }
   ],
   "source": [
    "plt.plot(df['date'], df['close'])\n",
    "plt.xlabel('Date')\n",
    "plt.ylabel('Price')\n",
    "plt.title('Bitcoin price logged: Past 5 years')\n",
    "plt.show()"
   ]
  },
  {
   "cell_type": "markdown",
   "id": "740b2e10",
   "metadata": {},
   "source": [
    "### Differencing the data according to ARIMA conditions"
   ]
  },
  {
   "cell_type": "code",
   "execution_count": 11,
   "id": "1bfd5f3f",
   "metadata": {},
   "outputs": [],
   "source": [
    "def adf_test(target_series):\n",
    "    \"\"\"\n",
    "    Parameters\n",
    "    ----------\n",
    "    target_series : Pandas Series\n",
    "        The column of dataframe that contains the target data to which\n",
    "        we want to test for stationarity e.g. Bitcoin Price.\n",
    "    Returns\n",
    "    -------\n",
    "    adf_statistic : Float\n",
    "        The adf statistic.\n",
    "    p_value : Float\n",
    "        The p value of the adf test.\n",
    "    \"\"\"\n",
    "    result = adfuller(target_series)\n",
    "    adf_statistic = result[0]\n",
    "    p_value = result[1]\n",
    "    print('ADF Statistic: %f' % adf_statistic)\n",
    "    print('p-value: %f' % p_value)\n",
    "    return adf_statistic, p_value"
   ]
  },
  {
   "cell_type": "code",
   "execution_count": 12,
   "id": "f94f3721",
   "metadata": {},
   "outputs": [
    {
     "name": "stdout",
     "output_type": "stream",
     "text": [
      "ADF Statistic: -0.963393\n",
      "p-value: 0.766381\n"
     ]
    },
    {
     "data": {
      "text/plain": [
       "(-0.9633926430287286, 0.7663808187094759)"
      ]
     },
     "execution_count": 12,
     "metadata": {},
     "output_type": "execute_result"
    }
   ],
   "source": [
    "adf_test(df['close'])"
   ]
  },
  {
   "cell_type": "code",
   "execution_count": 13,
   "id": "00b7d8a4",
   "metadata": {},
   "outputs": [],
   "source": [
    "p_value = 0.768296"
   ]
  },
  {
   "cell_type": "code",
   "execution_count": 14,
   "id": "68caf2b8",
   "metadata": {},
   "outputs": [],
   "source": [
    "def kpss_test(target_series):\n",
    "    print(\"Results of KPSS Test:\")\n",
    "    kpsstest = kpss(target_series, regression=\"ct\", nlags=\"auto\")\n",
    "    kpss_output = pd.Series(\n",
    "        kpsstest[0:3], index=[\"Test Statistic\", \"p-value\", \"Lags Used\"]\n",
    "    )\n",
    "    for key, value in kpsstest[3].items():\n",
    "        kpss_output[\"Critical Value (%s)\" % key] = value\n",
    "    print(kpss_output)"
   ]
  },
  {
   "cell_type": "code",
   "execution_count": 15,
   "id": "cd601513",
   "metadata": {},
   "outputs": [
    {
     "name": "stdout",
     "output_type": "stream",
     "text": [
      "Results of KPSS Test:\n",
      "Test Statistic            0.734965\n",
      "p-value                   0.010000\n",
      "Lags Used                27.000000\n",
      "Critical Value (10%)      0.119000\n",
      "Critical Value (5%)       0.146000\n",
      "Critical Value (2.5%)     0.176000\n",
      "Critical Value (1%)       0.216000\n",
      "dtype: float64\n"
     ]
    },
    {
     "name": "stderr",
     "output_type": "stream",
     "text": [
      "C:\\Users\\mango\\anaconda3\\lib\\site-packages\\statsmodels\\tsa\\stattools.py:2018: InterpolationWarning: The test statistic is outside of the range of p-values available in the\n",
      "look-up table. The actual p-value is smaller than the p-value returned.\n",
      "\n",
      "  warnings.warn(\n"
     ]
    }
   ],
   "source": [
    "kpss_test(df['close'])"
   ]
  },
  {
   "cell_type": "code",
   "execution_count": 16,
   "id": "85be0724",
   "metadata": {},
   "outputs": [],
   "source": [
    "def find_order_of_differencing(df):\n",
    "    \"\"\"\n",
    "    Parameters\n",
    "    ----------\n",
    "    df : DataFrame\n",
    "        cleaned time series data of the respective currency.\n",
    "    Returns\n",
    "    -------\n",
    "    d : INT\n",
    "        An integar representing the number of differences to get time\n",
    "        series stationary. When P value is < 0.05 from augmented\n",
    "        dicky fuller test function will return d.\n",
    "    \"\"\"\n",
    "    # get the adf statistic and p values\n",
    "    adf_statistic, p_value = adf_test(df['close'])\n",
    "    # get kpss statiostic and p value\n",
    "    kpss_test(df['close'])\n",
    "    # p value needs to be < 0.05 for time series to be stationary\n",
    "    if p_value > 0.05:\n",
    "        # set number of differences to 0\n",
    "        d = 0\n",
    "        # if p value is above threshold repeatedly run logic until below\n",
    "        while p_value > 0.05:\n",
    "            print(\"\")\n",
    "            print(\"\")\n",
    "            print(\"P value to large, trying differencing\")\n",
    "            # difference the time series\n",
    "            df['close'] = df['close'].diff()\n",
    "            # drop the null values\n",
    "            df.dropna(inplace = True)\n",
    "            # add 1 to d for each iteration to represent 1 differencing\n",
    "            d += 1\n",
    "            # perform adf test again to asses p value and exit loop if stationary\n",
    "            adf_statistic, p_value = adf_test(df['close'])\n",
    "            # perform KPSS test\n",
    "            kpss_test(df['close'])\n",
    "        print(f\"Success... TS now stationary after {d} differncing\")\n",
    "        return df"
   ]
  },
  {
   "cell_type": "code",
   "execution_count": 17,
   "id": "08907cb8",
   "metadata": {},
   "outputs": [
    {
     "name": "stdout",
     "output_type": "stream",
     "text": [
      "ADF Statistic: -0.963393\n",
      "p-value: 0.766381\n",
      "Results of KPSS Test:\n",
      "Test Statistic            0.734965\n",
      "p-value                   0.010000\n",
      "Lags Used                27.000000\n",
      "Critical Value (10%)      0.119000\n",
      "Critical Value (5%)       0.146000\n",
      "Critical Value (2.5%)     0.176000\n",
      "Critical Value (1%)       0.216000\n",
      "dtype: float64\n",
      "\n",
      "\n",
      "P value to large, trying differencing\n",
      "ADF Statistic: -19.988476\n",
      "p-value: 0.000000\n",
      "Results of KPSS Test:\n",
      "Test Statistic           0.145515\n",
      "p-value                  0.050898\n",
      "Lags Used                9.000000\n",
      "Critical Value (10%)     0.119000\n",
      "Critical Value (5%)      0.146000\n",
      "Critical Value (2.5%)    0.176000\n",
      "Critical Value (1%)      0.216000\n",
      "dtype: float64\n",
      "Success... TS now stationary after 1 differncing\n"
     ]
    },
    {
     "name": "stderr",
     "output_type": "stream",
     "text": [
      "C:\\Users\\mango\\anaconda3\\lib\\site-packages\\statsmodels\\tsa\\stattools.py:2018: InterpolationWarning: The test statistic is outside of the range of p-values available in the\n",
      "look-up table. The actual p-value is smaller than the p-value returned.\n",
      "\n",
      "  warnings.warn(\n",
      "C:\\Users\\mango\\AppData\\Local\\Temp\\ipykernel_11768\\911645095.py:28: SettingWithCopyWarning: \n",
      "A value is trying to be set on a copy of a slice from a DataFrame.\n",
      "Try using .loc[row_indexer,col_indexer] = value instead\n",
      "\n",
      "See the caveats in the documentation: https://pandas.pydata.org/pandas-docs/stable/user_guide/indexing.html#returning-a-view-versus-a-copy\n",
      "  df['close'] = df['close'].diff()\n",
      "C:\\Users\\mango\\AppData\\Local\\Temp\\ipykernel_11768\\911645095.py:30: SettingWithCopyWarning: \n",
      "A value is trying to be set on a copy of a slice from a DataFrame\n",
      "\n",
      "See the caveats in the documentation: https://pandas.pydata.org/pandas-docs/stable/user_guide/indexing.html#returning-a-view-versus-a-copy\n",
      "  df.dropna(inplace = True)\n"
     ]
    }
   ],
   "source": [
    "df = find_order_of_differencing(df)"
   ]
  },
  {
   "cell_type": "code",
   "execution_count": 18,
   "id": "cf205486",
   "metadata": {},
   "outputs": [
    {
     "data": {
      "text/html": [
       "<div>\n",
       "<style scoped>\n",
       "    .dataframe tbody tr th:only-of-type {\n",
       "        vertical-align: middle;\n",
       "    }\n",
       "\n",
       "    .dataframe tbody tr th {\n",
       "        vertical-align: top;\n",
       "    }\n",
       "\n",
       "    .dataframe thead th {\n",
       "        text-align: right;\n",
       "    }\n",
       "</style>\n",
       "<table border=\"1\" class=\"dataframe\">\n",
       "  <thead>\n",
       "    <tr style=\"text-align: right;\">\n",
       "      <th></th>\n",
       "      <th>date</th>\n",
       "      <th>close</th>\n",
       "    </tr>\n",
       "  </thead>\n",
       "  <tbody>\n",
       "    <tr>\n",
       "      <th>1</th>\n",
       "      <td>2018-04-26</td>\n",
       "      <td>0.048088</td>\n",
       "    </tr>\n",
       "    <tr>\n",
       "      <th>2</th>\n",
       "      <td>2018-04-27</td>\n",
       "      <td>-0.032240</td>\n",
       "    </tr>\n",
       "    <tr>\n",
       "      <th>3</th>\n",
       "      <td>2018-04-28</td>\n",
       "      <td>0.039429</td>\n",
       "    </tr>\n",
       "    <tr>\n",
       "      <th>4</th>\n",
       "      <td>2018-04-29</td>\n",
       "      <td>0.007524</td>\n",
       "    </tr>\n",
       "    <tr>\n",
       "      <th>5</th>\n",
       "      <td>2018-04-30</td>\n",
       "      <td>-0.019136</td>\n",
       "    </tr>\n",
       "    <tr>\n",
       "      <th>...</th>\n",
       "      <td>...</td>\n",
       "      <td>...</td>\n",
       "    </tr>\n",
       "    <tr>\n",
       "      <th>1821</th>\n",
       "      <td>2023-04-20</td>\n",
       "      <td>-0.020211</td>\n",
       "    </tr>\n",
       "    <tr>\n",
       "      <th>1822</th>\n",
       "      <td>2023-04-21</td>\n",
       "      <td>-0.034911</td>\n",
       "    </tr>\n",
       "    <tr>\n",
       "      <th>1823</th>\n",
       "      <td>2023-04-22</td>\n",
       "      <td>0.019625</td>\n",
       "    </tr>\n",
       "    <tr>\n",
       "      <th>1824</th>\n",
       "      <td>2023-04-23</td>\n",
       "      <td>-0.008162</td>\n",
       "    </tr>\n",
       "    <tr>\n",
       "      <th>1825</th>\n",
       "      <td>2023-04-24</td>\n",
       "      <td>-0.005833</td>\n",
       "    </tr>\n",
       "  </tbody>\n",
       "</table>\n",
       "<p>1825 rows × 2 columns</p>\n",
       "</div>"
      ],
      "text/plain": [
       "            date     close\n",
       "1     2018-04-26  0.048088\n",
       "2     2018-04-27 -0.032240\n",
       "3     2018-04-28  0.039429\n",
       "4     2018-04-29  0.007524\n",
       "5     2018-04-30 -0.019136\n",
       "...          ...       ...\n",
       "1821  2023-04-20 -0.020211\n",
       "1822  2023-04-21 -0.034911\n",
       "1823  2023-04-22  0.019625\n",
       "1824  2023-04-23 -0.008162\n",
       "1825  2023-04-24 -0.005833\n",
       "\n",
       "[1825 rows x 2 columns]"
      ]
     },
     "execution_count": 18,
     "metadata": {},
     "output_type": "execute_result"
    }
   ],
   "source": [
    "df"
   ]
  },
  {
   "cell_type": "code",
   "execution_count": 19,
   "id": "d8ff3577",
   "metadata": {},
   "outputs": [
    {
     "data": {
      "image/png": "[encoded data removed]",
      "text/plain": [
       "<Figure size 640x480 with 1 Axes>"
      ]
     },
     "metadata": {},
     "output_type": "display_data"
    }
   ],
   "source": [
    "plt.plot(df['date'], df['close'])\n",
    "plt.xlabel('Date')\n",
    "plt.ylabel('Price')\n",
    "plt.title('Bitcoin price differenciated: Past 5 years')\n",
    "plt.show()"
   ]
  },
  {
   "cell_type": "code",
   "execution_count": 20,
   "id": "d601e063",
   "metadata": {},
   "outputs": [],
   "source": [
    "def auto_arima(orig_df):\n",
    "    \"\"\"\n",
    "    Parameters\n",
    "    ----------\n",
    "    orig_df : Data Frame\n",
    "        Copied data frame from origonal read in prior to manual differencing.\n",
    "    Returns\n",
    "    -------\n",
    "    model.order: Tuple\n",
    "        tuple of found p,q,q values from auto arima\n",
    "    differenced_by_auto_arima: Data Frame\n",
    "        the differenced data frame output from the auto arima function\n",
    "    fitted_residuals: The residuals of the fitted model.\n",
    "    \"\"\"\n",
    "    #get target series\n",
    "    orig_df = np.log(orig_df['close'])\n",
    "    model = pm.auto_arima(orig_df,\n",
    "                          start_p=10,\n",
    "                          start_q=10,\n",
    "                          test='adf',\n",
    "                          max_p=10, \n",
    "                          max_q=10, \n",
    "                          m=1,\n",
    "                          d=None,           \n",
    "                          seasonal=False,   \n",
    "                          D=0, \n",
    "                          trace=True,\n",
    "                          error_action='ignore',  \n",
    "                          suppress_warnings=True,\n",
    "                         stepwise = True)\n",
    "    # difference df by d found by auto arima\n",
    "    differenced_by_auto_arima = orig_df.diff(model.order[1])\n",
    "    return model.order, differenced_by_auto_arima, model.resid()"
   ]
  },
  {
   "cell_type": "code",
   "execution_count": 21,
   "id": "a5f0b117",
   "metadata": {},
   "outputs": [
    {
     "name": "stdout",
     "output_type": "stream",
     "text": [
      "Performing stepwise search to minimize aic\n",
      " ARIMA(10,1,10)(0,0,0)[0] intercept   : AIC=-6848.458, Time=3.89 sec\n",
      " ARIMA(0,1,0)(0,0,0)[0] intercept   : AIC=-6868.135, Time=0.29 sec\n",
      " ARIMA(1,1,0)(0,0,0)[0] intercept   : AIC=-6870.179, Time=0.38 sec\n",
      " ARIMA(0,1,1)(0,0,0)[0] intercept   : AIC=-6869.836, Time=0.12 sec\n",
      " ARIMA(0,1,0)(0,0,0)[0]             : AIC=-6869.618, Time=0.14 sec\n",
      " ARIMA(2,1,0)(0,0,0)[0] intercept   : AIC=-6871.819, Time=0.17 sec\n",
      " ARIMA(3,1,0)(0,0,0)[0] intercept   : AIC=-6869.848, Time=0.52 sec\n",
      " ARIMA(2,1,1)(0,0,0)[0] intercept   : AIC=-6869.917, Time=0.22 sec\n",
      " ARIMA(1,1,1)(0,0,0)[0] intercept   : AIC=-6872.403, Time=1.55 sec\n",
      " ARIMA(1,1,2)(0,0,0)[0] intercept   : AIC=-6869.696, Time=0.65 sec\n",
      " ARIMA(0,1,2)(0,0,0)[0] intercept   : AIC=-6871.520, Time=0.18 sec\n",
      " ARIMA(2,1,2)(0,0,0)[0] intercept   : AIC=-6870.193, Time=1.88 sec\n",
      " ARIMA(1,1,1)(0,0,0)[0]             : AIC=-6872.808, Time=0.20 sec\n",
      " ARIMA(0,1,1)(0,0,0)[0]             : AIC=-6871.272, Time=0.07 sec\n",
      " ARIMA(1,1,0)(0,0,0)[0]             : AIC=-6871.612, Time=0.13 sec\n",
      " ARIMA(2,1,1)(0,0,0)[0]             : AIC=-6871.414, Time=0.28 sec\n",
      " ARIMA(1,1,2)(0,0,0)[0]             : AIC=-6871.193, Time=0.26 sec\n",
      " ARIMA(0,1,2)(0,0,0)[0]             : AIC=-6873.000, Time=0.24 sec\n",
      " ARIMA(0,1,3)(0,0,0)[0]             : AIC=-6871.009, Time=0.22 sec\n",
      " ARIMA(1,1,3)(0,0,0)[0]             : AIC=-6869.064, Time=0.14 sec\n",
      "\n",
      "Best model:  ARIMA(0,1,2)(0,0,0)[0]          \n",
      "Total fit time: 11.535 seconds\n"
     ]
    }
   ],
   "source": [
    "model_order, differenced_data, model_residuals = auto_arima(df_origin)"
   ]
  },
  {
   "cell_type": "code",
   "execution_count": 22,
   "id": "456153d8",
   "metadata": {},
   "outputs": [
    {
     "name": "stderr",
     "output_type": "stream",
     "text": [
      "C:\\Users\\mango\\anaconda3\\lib\\site-packages\\statsmodels\\tsa\\statespace\\sarimax.py:966: UserWarning: Non-stationary starting autoregressive parameters found. Using zeros as starting parameters.\n",
      "  warn('Non-stationary starting autoregressive parameters'\n",
      "C:\\Users\\mango\\anaconda3\\lib\\site-packages\\statsmodels\\tsa\\statespace\\sarimax.py:978: UserWarning: Non-invertible starting MA parameters found. Using zeros as starting parameters.\n",
      "  warn('Non-invertible starting MA parameters found.'\n",
      "C:\\Users\\mango\\anaconda3\\lib\\site-packages\\statsmodels\\base\\model.py:604: ConvergenceWarning: Maximum Likelihood optimization failed to converge. Check mle_retvals\n",
      "  warnings.warn(\"Maximum Likelihood optimization failed to \"\n"
     ]
    }
   ],
   "source": [
    "model = sm.tsa.ARIMA(np.log(train_data), order=(10,1,10))\n",
    "fitted = model.fit()"
   ]
  },
  {
   "cell_type": "code",
   "execution_count": 23,
   "id": "b05d72cf",
   "metadata": {},
   "outputs": [
    {
     "data": {
      "image/png": "[encoded data removed]",
      "text/plain": [
       "<Figure size 1200x800 with 1 Axes>"
      ]
     },
     "metadata": {},
     "output_type": "display_data"
    }
   ],
   "source": [
    "\n",
    "    fc = fitted.get_forecast(7) \n",
    "    #Set confidence to 95% \n",
    "    fc = (fc.summary_frame(alpha=0.05))\n",
    "    #Get mean forecast\n",
    "    fc_mean = fc['mean']\n",
    "    #Get lower confidence forecast\n",
    "    fc_lower = fc['mean_ci_lower']\n",
    "    #Get upper confidence forecast\n",
    "    fc_upper = fc['mean_ci_upper'] \n",
    "    #Set figure size\n",
    "    fig, ax = plt.subplots(figsize=(12,8), dpi=100)\n",
    "    #Plot last 50 price movements\n",
    "    plt.plot(train_origin['date'][-50:],train_origin['close'][-50:], label='BTC Price')\n",
    "    # create date axis for predictions\n",
    "    future_7_days =  [str(test_origin['date'][x]) for x in range(1278,1285)]\n",
    "    #Plot mean forecast\n",
    "    plt.plot(future_7_days, np.exp(fc_mean), label='mean_forecast', linewidth = 1.5)\n",
    "    #Create confidence interval\n",
    "    plt.fill_between(future_7_days, np.exp(fc_lower),np.exp(fc_upper), color='b', alpha=.1, label = '95% Confidence')\n",
    "    #Set title\n",
    "    plt.title('Bitcoin 7 Day Forecast')\n",
    "    #Set legend\n",
    "    plt.legend(loc='upper left', fontsize=8)\n",
    "    \n",
    "# Set custom date tick locator and formatter\n",
    "ax.xaxis.set_major_locator(ticker.MultipleLocator(7))\n",
    "\n",
    "# Rotate x-axis tick labels\n",
    "plt.setp(ax.get_xticklabels(), rotation=30, ha='right')\n",
    "    plt.show()"
   ]
  },
  {
   "cell_type": "code",
   "execution_count": 24,
   "id": "90c1cd57",
   "metadata": {},
   "outputs": [
    {
     "data": {
      "text/plain": [
       "1278    11.019515\n",
       "1279    11.025700\n",
       "1280    11.024669\n",
       "1281    11.017796\n",
       "1282    11.020319\n",
       "          ...    \n",
       "1821    11.023604\n",
       "1822    11.023604\n",
       "1823    11.023604\n",
       "1824    11.023604\n",
       "1825    11.023604\n",
       "Name: predicted_mean, Length: 548, dtype: float64"
      ]
     },
     "execution_count": 24,
     "metadata": {},
     "output_type": "execute_result"
    }
   ],
   "source": [
    "y_pred = fitted.forecast(steps=len(test_data))\n",
    "y_pred"
   ]
  },
  {
   "cell_type": "code",
   "execution_count": 25,
   "id": "d3a28763",
   "metadata": {},
   "outputs": [
    {
     "name": "stdout",
     "output_type": "stream",
     "text": [
      "Mean Absolute error: 30787.066800915345\n",
      "Mean Squared error: 1116075811.3691332\n",
      "R-squared: -5.634133945745225\n"
     ]
    }
   ],
   "source": [
    "mae = mean_absolute_error(test_data, y_pred)\n",
    "mse = mean_squared_error(test_data, y_pred)\n",
    "r2 = r2_score(test_data, y_pred)\n",
    "\n",
    "print(\"Mean Absolute error:\", mae)\n",
    "print(\"Mean Squared error:\", mse)\n",
    "print(\"R-squared:\", r2)"
   ]
  },
  {
   "cell_type": "code",
   "execution_count": null,
   "id": "d4c25625",
   "metadata": {},
   "outputs": [],
   "source": []
  }
 ],
 "metadata": {
  "kernelspec": {
   "display_name": "Python 3 (ipykernel)",
   "language": "python",
   "name": "python3"
  },
  "language_info": {
   "codemirror_mode": {
    "name": "ipython",
    "version": 3
   },
   "file_extension": ".py",
   "mimetype": "text/x-python",
   "name": "python",
   "nbconvert_exporter": "python",
   "pygments_lexer": "ipython3",
   "version": "3.9.13"
  }
 },
 "nbformat": 4,
 "nbformat_minor": 5
}
